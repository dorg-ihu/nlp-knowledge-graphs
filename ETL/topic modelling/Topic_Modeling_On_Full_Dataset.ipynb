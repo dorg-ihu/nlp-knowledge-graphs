{
  "cells": [
    {
      "cell_type": "markdown",
      "metadata": {
        "id": "AXHLDxJdRzBi"
      },
      "source": [
        "## BERTopic\n",
        "BERTopic is a topic modeling technique that leverages 🤗 transformers and a custom class-based TF-IDF to create dense clusters allowing for easily interpretable topics whilst keeping important words in the topic descriptions."
      ]
    },
    {
      "cell_type": "markdown",
      "metadata": {
        "id": "130PIKarkY1_"
      },
      "source": [
        "# Enabling the GPU\n",
        "\n",
        "First, you'll need to enable GPUs for the notebook:\n",
        "\n",
        "- Navigate to Edit→Notebook Settings\n",
        "- select GPU from the Hardware Accelerator drop-down"
      ]
    },
    {
      "cell_type": "markdown",
      "metadata": {
        "id": "lj2MUI9Mkdxu"
      },
      "source": [
        "# **Installing BERTopic**\n",
        "\n",
        "We start by installing BERTopic from PyPi:"
      ]
    },
    {
      "cell_type": "code",
      "execution_count": 1,
      "metadata": {
        "id": "SNa-KtKDRnus"
      },
      "outputs": [],
      "source": [
        "%%capture\n",
        "!pip install bertopic"
      ]
    },
    {
      "cell_type": "markdown",
      "metadata": {
        "id": "0ehO3emgk96g"
      },
      "source": [
        "## Restart the Notebook\n",
        "After installing BERTopic, some packages that were already loaded were updated and in order to correctly use them, we should now restart the notebook.\n",
        "\n",
        "From the Menu:\n",
        "\n",
        "Runtime → Restart Runtime"
      ]
    },
    {
      "cell_type": "markdown",
      "metadata": {
        "id": "Y3VGFZ1USMTu"
      },
      "source": [
        "#Connect to sharepoint"
      ]
    },
    {
      "cell_type": "code",
      "execution_count": 2,
      "metadata": {
        "colab": {
          "base_uri": "https://localhost:8080/"
        },
        "id": "JJij3WP6SEQD",
        "outputId": "e738f880-b20a-4a88-e48e-ad0ecfa68778"
      },
      "outputs": [
        {
          "name": "stdout",
          "output_type": "stream",
          "text": [
            "Collecting office365\n",
            "  Downloading office365-0.3.15-py3-none-any.whl (32 kB)\n",
            "Collecting azure-storage-blob (from office365)\n",
            "  Downloading azure_storage_blob-12.17.0-py3-none-any.whl (388 kB)\n",
            "\u001b[2K     \u001b[90m━━━━━━━━━━━━━━━━━━━━━━━━━━━━━━━━━━━━━━━\u001b[0m \u001b[32m388.0/388.0 kB\u001b[0m \u001b[31m8.2 MB/s\u001b[0m eta \u001b[36m0:00:00\u001b[0m\n",
            "\u001b[?25hCollecting O365 (from office365)\n",
            "  Downloading O365-2.0.27-py3-none-any.whl (164 kB)\n",
            "\u001b[2K     \u001b[90m━━━━━━━━━━━━━━━━━━━━━━━━━━━━━━━━━━━━━━━\u001b[0m \u001b[32m164.2/164.2 kB\u001b[0m \u001b[31m9.1 MB/s\u001b[0m eta \u001b[36m0:00:00\u001b[0m\n",
            "\u001b[?25hCollecting pymiscutils (from office365)\n",
            "  Downloading pymiscutils-0.3.14-py3-none-any.whl (14 kB)\n",
            "Collecting pathmagic (from office365)\n",
            "  Downloading pathmagic-0.3.14-py3-none-any.whl (21 kB)\n",
            "Collecting pyiotools (from office365)\n",
            "  Downloading pyiotools-0.3.18-py3-none-any.whl (47 kB)\n",
            "\u001b[2K     \u001b[90m━━━━━━━━━━━━━━━━━━━━━━━━━━━━━━━━━━━━━━━━\u001b[0m \u001b[32m47.1/47.1 kB\u001b[0m \u001b[31m4.8 MB/s\u001b[0m eta \u001b[36m0:00:00\u001b[0m\n",
            "\u001b[?25hCollecting pysubtypes (from office365)\n",
            "  Downloading pysubtypes-0.3.18-py3-none-any.whl (31 kB)\n",
            "Collecting maybe-else (from office365)\n",
            "  Downloading maybe_else-0.2.1-py3-none-any.whl (5.5 kB)\n",
            "Collecting azure-core<2.0.0,>=1.28.0 (from azure-storage-blob->office365)\n",
            "  Downloading azure_core-1.28.0-py3-none-any.whl (185 kB)\n",
            "\u001b[2K     \u001b[90m━━━━━━━━━━━━━━━━━━━━━━━━━━━━━━━━━━━━━━\u001b[0m \u001b[32m185.4/185.4 kB\u001b[0m \u001b[31m10.6 MB/s\u001b[0m eta \u001b[36m0:00:00\u001b[0m\n",
            "\u001b[?25hRequirement already satisfied: cryptography>=2.1.4 in /usr/lib/python3/dist-packages (from azure-storage-blob->office365) (3.4.8)\n",
            "Requirement already satisfied: typing-extensions>=4.3.0 in /usr/local/lib/python3.10/dist-packages (from azure-storage-blob->office365) (4.7.1)\n",
            "Collecting isodate>=0.6.1 (from azure-storage-blob->office365)\n",
            "  Downloading isodate-0.6.1-py2.py3-none-any.whl (41 kB)\n",
            "\u001b[2K     \u001b[90m━━━━━━━━━━━━━━━━━━━━━━━━━━━━━━━━━━━━━━━━\u001b[0m \u001b[32m41.7/41.7 kB\u001b[0m \u001b[31m4.7 MB/s\u001b[0m eta \u001b[36m0:00:00\u001b[0m\n",
            "\u001b[?25hRequirement already satisfied: requests>=2.18.0 in /usr/local/lib/python3.10/dist-packages (from O365->office365) (2.27.1)\n",
            "Requirement already satisfied: requests-oauthlib>=1.2.0 in /usr/local/lib/python3.10/dist-packages (from O365->office365) (1.3.1)\n",
            "Requirement already satisfied: python-dateutil>=2.7 in /usr/local/lib/python3.10/dist-packages (from O365->office365) (2.8.2)\n",
            "Requirement already satisfied: pytz>=2018.5 in /usr/local/lib/python3.10/dist-packages (from O365->office365) (2022.7.1)\n",
            "Collecting tzlocal<5.0,>=4.0 (from O365->office365)\n",
            "  Downloading tzlocal-4.3.1-py3-none-any.whl (20 kB)\n",
            "Requirement already satisfied: beautifulsoup4>=4.0.0 in /usr/local/lib/python3.10/dist-packages (from O365->office365) (4.11.2)\n",
            "Collecting stringcase>=1.2.0 (from O365->office365)\n",
            "  Downloading stringcase-1.2.0.tar.gz (3.0 kB)\n",
            "  Preparing metadata (setup.py) ... \u001b[?25l\u001b[?25hdone\n",
            "Requirement already satisfied: pandas in /usr/local/lib/python3.10/dist-packages (from pathmagic->office365) (1.5.3)\n",
            "Requirement already satisfied: Pillow in /usr/local/lib/python3.10/dist-packages (from pathmagic->office365) (8.4.0)\n",
            "Collecting PyPDF2 (from pathmagic->office365)\n",
            "  Downloading pypdf2-3.0.1-py3-none-any.whl (232 kB)\n",
            "\u001b[2K     \u001b[90m━━━━━━━━━━━━━━━━━━━━━━━━━━━━━━━━━━━━━━\u001b[0m \u001b[32m232.6/232.6 kB\u001b[0m \u001b[31m10.8 MB/s\u001b[0m eta \u001b[36m0:00:00\u001b[0m\n",
            "\u001b[?25hRequirement already satisfied: appdirs in /usr/local/lib/python3.10/dist-packages (from pathmagic->office365) (1.4.4)\n",
            "Collecting bs4 (from pathmagic->office365)\n",
            "  Downloading bs4-0.0.1.tar.gz (1.1 kB)\n",
            "  Preparing metadata (setup.py) ... \u001b[?25l\u001b[?25hdone\n",
            "Collecting dill (from pathmagic->office365)\n",
            "  Downloading dill-0.3.6-py3-none-any.whl (110 kB)\n",
            "\u001b[2K     \u001b[90m━━━━━━━━━━━━━━━━━━━━━━━━━━━━━━━━━━━━━━━\u001b[0m \u001b[32m110.5/110.5 kB\u001b[0m \u001b[31m9.9 MB/s\u001b[0m eta \u001b[36m0:00:00\u001b[0m\n",
            "\u001b[?25hCollecting python-docx (from pathmagic->office365)\n",
            "  Downloading python-docx-0.8.11.tar.gz (5.6 MB)\n",
            "\u001b[2K     \u001b[90m━━━━━━━━━━━━━━━━━━━━━━━━━━━━━━━━━━━━━━━━\u001b[0m \u001b[32m5.6/5.6 MB\u001b[0m \u001b[31m37.5 MB/s\u001b[0m eta \u001b[36m0:00:00\u001b[0m\n",
            "\u001b[?25h  Preparing metadata (setup.py) ... \u001b[?25l\u001b[?25hdone\n",
            "Requirement already satisfied: moviepy in /usr/local/lib/python3.10/dist-packages (from pathmagic->office365) (1.0.3)\n",
            "Collecting pydub (from pathmagic->office365)\n",
            "  Downloading pydub-0.25.1-py2.py3-none-any.whl (32 kB)\n",
            "Requirement already satisfied: Send2Trash in /usr/local/lib/python3.10/dist-packages (from pathmagic->office365) (1.8.2)\n",
            "Collecting simplejson (from pathmagic->office365)\n",
            "  Downloading simplejson-3.19.1-cp310-cp310-manylinux_2_5_x86_64.manylinux1_x86_64.manylinux_2_17_x86_64.manylinux2014_x86_64.whl (137 kB)\n",
            "\u001b[2K     \u001b[90m━━━━━━━━━━━━━━━━━━━━━━━━━━━━━━━━━━━━━━\u001b[0m \u001b[32m137.9/137.9 kB\u001b[0m \u001b[31m15.7 MB/s\u001b[0m eta \u001b[36m0:00:00\u001b[0m\n",
            "\u001b[?25hCollecting APScheduler (from pyiotools->office365)\n",
            "  Downloading APScheduler-3.10.1-py3-none-any.whl (59 kB)\n",
            "\u001b[2K     \u001b[90m━━━━━━━━━━━━━━━━━━━━━━━━━━━━━━━━━━━━━━━━\u001b[0m \u001b[32m59.2/59.2 kB\u001b[0m \u001b[31m6.9 MB/s\u001b[0m eta \u001b[36m0:00:00\u001b[0m\n",
            "\u001b[?25hCollecting cursor (from pyiotools->office365)\n",
            "  Downloading cursor-1.3.5.tar.gz (15 kB)\n",
            "  Preparing metadata (setup.py) ... \u001b[?25l\u001b[?25hdone\n",
            "Collecting readchar (from pyiotools->office365)\n",
            "  Downloading readchar-4.0.5-py3-none-any.whl (8.5 kB)\n",
            "Collecting colorama (from pyiotools->office365)\n",
            "  Downloading colorama-0.4.6-py2.py3-none-any.whl (25 kB)\n",
            "Collecting infi.systray (from pyiotools->office365)\n",
            "  Downloading infi.systray-0.1.12-py3-none-any.whl (9.2 kB)\n",
            "Collecting PyQt5 (from pyiotools->office365)\n",
            "  Downloading PyQt5-5.15.9-cp37-abi3-manylinux_2_17_x86_64.whl (8.4 MB)\n",
            "\u001b[2K     \u001b[90m━━━━━━━━━━━━━━━━━━━━━━━━━━━━━━━━━━━━━━━━\u001b[0m \u001b[32m8.4/8.4 MB\u001b[0m \u001b[31m84.0 MB/s\u001b[0m eta \u001b[36m0:00:00\u001b[0m\n",
            "\u001b[?25hCollecting typepy (from pyiotools->office365)\n",
            "  Downloading typepy-1.3.1-py3-none-any.whl (31 kB)\n",
            "Requirement already satisfied: numpy in /usr/local/lib/python3.10/dist-packages (from pymiscutils->office365) (1.22.4)\n",
            "Collecting gender-guesser (from pymiscutils->office365)\n",
            "  Downloading gender_guesser-0.4.0-py2.py3-none-any.whl (379 kB)\n",
            "\u001b[2K     \u001b[90m━━━━━━━━━━━━━━━━━━━━━━━━━━━━━━━━━━━━━━\u001b[0m \u001b[32m379.3/379.3 kB\u001b[0m \u001b[31m36.3 MB/s\u001b[0m eta \u001b[36m0:00:00\u001b[0m\n",
            "\u001b[?25hCollecting pyinstrument (from pymiscutils->office365)\n",
            "  Downloading pyinstrument-4.5.0-cp310-cp310-manylinux_2_5_x86_64.manylinux1_x86_64.manylinux_2_17_x86_64.manylinux2014_x86_64.whl (105 kB)\n",
            "\u001b[2K     \u001b[90m━━━━━━━━━━━━━━━━━━━━━━━━━━━━━━━━━━━━━━\u001b[0m \u001b[32m105.2/105.2 kB\u001b[0m \u001b[31m11.8 MB/s\u001b[0m eta \u001b[36m0:00:00\u001b[0m\n",
            "\u001b[?25hCollecting aenum (from pysubtypes->office365)\n",
            "  Downloading aenum-3.1.15-py3-none-any.whl (137 kB)\n",
            "\u001b[2K     \u001b[90m━━━━━━━━━━━━━━━━━━━━━━━━━━━━━━━━━━━━━━\u001b[0m \u001b[32m137.6/137.6 kB\u001b[0m \u001b[31m16.0 MB/s\u001b[0m eta \u001b[36m0:00:00\u001b[0m\n",
            "\u001b[?25hCollecting case-conversion (from pysubtypes->office365)\n",
            "  Downloading case_conversion-2.1.0.tar.gz (4.4 kB)\n",
            "  Preparing metadata (setup.py) ... \u001b[?25l\u001b[?25hdone\n",
            "Collecting colour (from pysubtypes->office365)\n",
            "  Downloading colour-0.1.5-py2.py3-none-any.whl (23 kB)\n",
            "Collecting clipboard (from pysubtypes->office365)\n",
            "  Downloading clipboard-0.0.4.tar.gz (1.7 kB)\n",
            "  Preparing metadata (setup.py) ... \u001b[?25l\u001b[?25hdone\n",
            "Collecting html-text (from pysubtypes->office365)\n",
            "  Downloading html_text-0.5.2-py2.py3-none-any.whl (7.5 kB)\n",
            "Collecting fuzzywuzzy (from pysubtypes->office365)\n",
            "  Downloading fuzzywuzzy-0.18.0-py2.py3-none-any.whl (18 kB)\n",
            "Requirement already satisfied: inflect in /usr/local/lib/python3.10/dist-packages (from pysubtypes->office365) (6.0.5)\n",
            "Collecting parsedatetime (from pysubtypes->office365)\n",
            "  Downloading parsedatetime-2.6-py3-none-any.whl (42 kB)\n",
            "\u001b[2K     \u001b[90m━━━━━━━━━━━━━━━━━━━━━━━━━━━━━━━━━━━━━━━━\u001b[0m \u001b[32m42.5/42.5 kB\u001b[0m \u001b[31m4.2 MB/s\u001b[0m eta \u001b[36m0:00:00\u001b[0m\n",
            "\u001b[?25hCollecting prettierfier (from pysubtypes->office365)\n",
            "  Downloading prettierfier-1.0.3-py3-none-any.whl (5.3 kB)\n",
            "Requirement already satisfied: regex in /usr/local/lib/python3.10/dist-packages (from pysubtypes->office365) (2022.10.31)\n",
            "Requirement already satisfied: tabulate in /usr/local/lib/python3.10/dist-packages (from pysubtypes->office365) (0.8.10)\n",
            "Requirement already satisfied: urllib3 in /usr/local/lib/python3.10/dist-packages (from pysubtypes->office365) (1.26.16)\n",
            "Collecting xlsxwriter (from pysubtypes->office365)\n",
            "  Downloading XlsxWriter-3.1.2-py3-none-any.whl (153 kB)\n",
            "\u001b[2K     \u001b[90m━━━━━━━━━━━━━━━━━━━━━━━━━━━━━━━━━━━━━━\u001b[0m \u001b[32m153.0/153.0 kB\u001b[0m \u001b[31m16.0 MB/s\u001b[0m eta \u001b[36m0:00:00\u001b[0m\n",
            "\u001b[?25hCollecting msoffcrypto-tool (from pysubtypes->office365)\n",
            "  Downloading msoffcrypto_tool-5.1.1-py3-none-any.whl (34 kB)\n",
            "Requirement already satisfied: six>=1.11.0 in /usr/local/lib/python3.10/dist-packages (from azure-core<2.0.0,>=1.28.0->azure-storage-blob->office365) (1.16.0)\n",
            "Requirement already satisfied: soupsieve>1.2 in /usr/local/lib/python3.10/dist-packages (from beautifulsoup4>=4.0.0->O365->office365) (2.4.1)\n",
            "Requirement already satisfied: certifi>=2017.4.17 in /usr/local/lib/python3.10/dist-packages (from requests>=2.18.0->O365->office365) (2023.5.7)\n",
            "Requirement already satisfied: charset-normalizer~=2.0.0 in /usr/local/lib/python3.10/dist-packages (from requests>=2.18.0->O365->office365) (2.0.12)\n",
            "Requirement already satisfied: idna<4,>=2.5 in /usr/local/lib/python3.10/dist-packages (from requests>=2.18.0->O365->office365) (3.4)\n",
            "Requirement already satisfied: oauthlib>=3.0.0 in /usr/local/lib/python3.10/dist-packages (from requests-oauthlib>=1.2.0->O365->office365) (3.2.2)\n",
            "Collecting pytz-deprecation-shim (from tzlocal<5.0,>=4.0->O365->office365)\n",
            "  Downloading pytz_deprecation_shim-0.1.0.post0-py2.py3-none-any.whl (15 kB)\n",
            "Requirement already satisfied: setuptools>=0.7 in /usr/local/lib/python3.10/dist-packages (from APScheduler->pyiotools->office365) (67.7.2)\n",
            "Collecting pyperclip>=1.3 (from clipboard->pysubtypes->office365)\n",
            "  Downloading pyperclip-1.8.2.tar.gz (20 kB)\n",
            "  Preparing metadata (setup.py) ... \u001b[?25l\u001b[?25hdone\n",
            "Requirement already satisfied: lxml in /usr/local/lib/python3.10/dist-packages (from html-text->pysubtypes->office365) (4.9.3)\n",
            "Requirement already satisfied: pydantic<2,>=1.9.1 in /usr/local/lib/python3.10/dist-packages (from inflect->pysubtypes->office365) (1.10.11)\n",
            "Requirement already satisfied: decorator<5.0,>=4.0.2 in /usr/local/lib/python3.10/dist-packages (from moviepy->pathmagic->office365) (4.4.2)\n",
            "Requirement already satisfied: tqdm<5.0,>=4.11.2 in /usr/local/lib/python3.10/dist-packages (from moviepy->pathmagic->office365) (4.65.0)\n",
            "Requirement already satisfied: proglog<=1.0.0 in /usr/local/lib/python3.10/dist-packages (from moviepy->pathmagic->office365) (0.1.10)\n",
            "Requirement already satisfied: imageio<3.0,>=2.5 in /usr/local/lib/python3.10/dist-packages (from moviepy->pathmagic->office365) (2.25.1)\n",
            "Requirement already satisfied: imageio-ffmpeg>=0.2.0 in /usr/local/lib/python3.10/dist-packages (from moviepy->pathmagic->office365) (0.4.8)\n",
            "Collecting cryptography>=2.1.4 (from azure-storage-blob->office365)\n",
            "  Downloading cryptography-41.0.2-cp37-abi3-manylinux_2_28_x86_64.whl (4.3 MB)\n",
            "\u001b[2K     \u001b[90m━━━━━━━━━━━━━━━━━━━━━━━━━━━━━━━━━━━━━━━━\u001b[0m \u001b[32m4.3/4.3 MB\u001b[0m \u001b[31m103.3 MB/s\u001b[0m eta \u001b[36m0:00:00\u001b[0m\n",
            "\u001b[?25hCollecting olefile>=0.46 (from msoffcrypto-tool->pysubtypes->office365)\n",
            "  Downloading olefile-0.46.zip (112 kB)\n",
            "\u001b[2K     \u001b[90m━━━━━━━━━━━━━━━━━━━━━━━━━━━━━━━━━━━━━━\u001b[0m \u001b[32m112.2/112.2 kB\u001b[0m \u001b[31m13.5 MB/s\u001b[0m eta \u001b[36m0:00:00\u001b[0m\n",
            "\u001b[?25h  Preparing metadata (setup.py) ... \u001b[?25l\u001b[?25hdone\n",
            "Requirement already satisfied: cffi>=1.12 in /usr/local/lib/python3.10/dist-packages (from cryptography>=2.1.4->azure-storage-blob->office365) (1.15.1)\n",
            "Collecting PyQt5-sip<13,>=12.11 (from PyQt5->pyiotools->office365)\n",
            "  Downloading PyQt5_sip-12.12.1-cp310-cp310-manylinux_2_5_x86_64.manylinux1_x86_64.whl (360 kB)\n",
            "\u001b[2K     \u001b[90m━━━━━━━━━━━━━━━━━━━━━━━━━━━━━━━━━━━━━━\u001b[0m \u001b[32m360.5/360.5 kB\u001b[0m \u001b[31m31.2 MB/s\u001b[0m eta \u001b[36m0:00:00\u001b[0m\n",
            "\u001b[?25hCollecting PyQt5-Qt5>=5.15.2 (from PyQt5->pyiotools->office365)\n",
            "  Downloading PyQt5_Qt5-5.15.2-py3-none-manylinux2014_x86_64.whl (59.9 MB)\n",
            "\u001b[2K     \u001b[90m━━━━━━━━━━━━━━━━━━━━━━━━━━━━━━━━━━━━━━━━\u001b[0m \u001b[32m59.9/59.9 MB\u001b[0m \u001b[31m23.4 MB/s\u001b[0m eta \u001b[36m0:00:00\u001b[0m\n",
            "\u001b[?25hCollecting mbstrdecoder<2,>=1.0.0 (from typepy->pyiotools->office365)\n",
            "  Downloading mbstrdecoder-1.1.3-py3-none-any.whl (7.8 kB)\n",
            "Requirement already satisfied: pycparser in /usr/local/lib/python3.10/dist-packages (from cffi>=1.12->cryptography>=2.1.4->azure-storage-blob->office365) (2.21)\n",
            "Requirement already satisfied: chardet<6,>=3.0.4 in /usr/local/lib/python3.10/dist-packages (from mbstrdecoder<2,>=1.0.0->typepy->pyiotools->office365) (4.0.0)\n",
            "Collecting tzdata (from pytz-deprecation-shim->tzlocal<5.0,>=4.0->O365->office365)\n",
            "  Downloading tzdata-2023.3-py2.py3-none-any.whl (341 kB)\n",
            "\u001b[2K     \u001b[90m━━━━━━━━━━━━━━━━━━━━━━━━━━━━━━━━━━━━━━\u001b[0m \u001b[32m341.8/341.8 kB\u001b[0m \u001b[31m28.5 MB/s\u001b[0m eta \u001b[36m0:00:00\u001b[0m\n",
            "\u001b[?25hBuilding wheels for collected packages: stringcase, bs4, case-conversion, clipboard, cursor, python-docx, olefile, pyperclip\n",
            "  Building wheel for stringcase (setup.py) ... \u001b[?25l\u001b[?25hdone\n",
            "  Created wheel for stringcase: filename=stringcase-1.2.0-py3-none-any.whl size=3569 sha256=af0b09f08a2d74aa23a63b932f74122bf8f8d81dbb1dbe75a4f556ebb19a9b7a\n",
            "  Stored in directory: /root/.cache/pip/wheels/31/ba/22/1a2d952a9ce8aa86e42fda41e2c87fdaf20e238c88bf8df013\n",
            "  Building wheel for bs4 (setup.py) ... \u001b[?25l\u001b[?25hdone\n",
            "  Created wheel for bs4: filename=bs4-0.0.1-py3-none-any.whl size=1257 sha256=679191ee72949162656a1f876e9278e4a2f8d88d3610407862bddcedb7d850f2\n",
            "  Stored in directory: /root/.cache/pip/wheels/25/42/45/b773edc52acb16cd2db4cf1a0b47117e2f69bb4eb300ed0e70\n",
            "  Building wheel for case-conversion (setup.py) ... \u001b[?25l\u001b[?25hdone\n",
            "  Created wheel for case-conversion: filename=case_conversion-2.1.0-py3-none-any.whl size=5343 sha256=d90a87d7881323c22d6ccf8841f500c25eef3d6c978d37d36f8839c2e2c170bc\n",
            "  Stored in directory: /root/.cache/pip/wheels/05/9c/c6/74b44af215cbc418a961c4de5002ecd5a719b57d5ceb341caa\n",
            "  Building wheel for clipboard (setup.py) ... \u001b[?25l\u001b[?25hdone\n",
            "  Created wheel for clipboard: filename=clipboard-0.0.4-py3-none-any.whl size=1849 sha256=c8b793ade99556b22f795f0b6b135e920ce7e3f3994e5a3d69321eeb182b4de6\n",
            "  Stored in directory: /root/.cache/pip/wheels/a9/16/29/0b45762bf14ad4ba5495cd4ce66c7e326ecb0d5f1edeb7c94d\n",
            "  Building wheel for cursor (setup.py) ... \u001b[?25l\u001b[?25hdone\n",
            "  Created wheel for cursor: filename=cursor-1.3.5-py3-none-any.whl size=15821 sha256=ac899e1a949fab025a2db84d9d30c390d959367c90524a3e91936bf49f793ba5\n",
            "  Stored in directory: /root/.cache/pip/wheels/bb/08/7f/46a8be2d2406ef8f31f519626da634ff35ad543bf5b2a77d95\n",
            "  Building wheel for python-docx (setup.py) ... \u001b[?25l\u001b[?25hdone\n",
            "  Created wheel for python-docx: filename=python_docx-0.8.11-py3-none-any.whl size=184491 sha256=e02517ea2dcddce54f57f90fb747d39a9faca9d54db0001ebf2f4935649bda70\n",
            "  Stored in directory: /root/.cache/pip/wheels/80/27/06/837436d4c3bd989b957a91679966f207bfd71d358d63a8194d\n",
            "  Building wheel for olefile (setup.py) ... \u001b[?25l\u001b[?25hdone\n",
            "  Created wheel for olefile: filename=olefile-0.46-py2.py3-none-any.whl size=35417 sha256=456e499ac32c1f6e1fff3714bef9f9202f4c1ea963f3256c9dedf5342697c482\n",
            "  Stored in directory: /root/.cache/pip/wheels/02/39/c0/9eb1f7a42b4b38f6f333b6314d4ed11c46f12a0f7b78194f0d\n",
            "  Building wheel for pyperclip (setup.py) ... \u001b[?25l\u001b[?25hdone\n",
            "  Created wheel for pyperclip: filename=pyperclip-1.8.2-py3-none-any.whl size=11124 sha256=eec3bd61106d2b8e9d37e3a26dd05fea94e8698d64b848666cffed1fb0d97fa8\n",
            "  Stored in directory: /root/.cache/pip/wheels/04/24/fe/140a94a7f1036003ede94579e6b4227fe96c840c6f4dcbe307\n",
            "Successfully built stringcase bs4 case-conversion clipboard cursor python-docx olefile pyperclip\n",
            "Installing collected packages: stringcase, PyQt5-Qt5, pyperclip, pydub, prettierfier, parsedatetime, maybe-else, gender-guesser, fuzzywuzzy, cursor, colour, aenum, xlsxwriter, tzdata, simplejson, readchar, python-docx, PyQt5-sip, PyPDF2, pyinstrument, olefile, mbstrdecoder, isodate, infi.systray, html-text, dill, colorama, clipboard, case-conversion, typepy, pytz-deprecation-shim, PyQt5, cryptography, bs4, azure-core, tzlocal, msoffcrypto-tool, azure-storage-blob, pysubtypes, O365, APScheduler, pathmagic, pymiscutils, pyiotools, office365\n",
            "  Attempting uninstall: cryptography\n",
            "    Found existing installation: cryptography 3.4.8\n",
            "    Uninstalling cryptography-3.4.8:\n",
            "      Successfully uninstalled cryptography-3.4.8\n",
            "  Attempting uninstall: tzlocal\n",
            "    Found existing installation: tzlocal 5.0.1\n",
            "    Uninstalling tzlocal-5.0.1:\n",
            "      Successfully uninstalled tzlocal-5.0.1\n",
            "Successfully installed APScheduler-3.10.1 O365-2.0.27 PyPDF2-3.0.1 PyQt5-5.15.9 PyQt5-Qt5-5.15.2 PyQt5-sip-12.12.1 aenum-3.1.15 azure-core-1.28.0 azure-storage-blob-12.17.0 bs4-0.0.1 case-conversion-2.1.0 clipboard-0.0.4 colorama-0.4.6 colour-0.1.5 cryptography-41.0.2 cursor-1.3.5 dill-0.3.6 fuzzywuzzy-0.18.0 gender-guesser-0.4.0 html-text-0.5.2 infi.systray-0.1.12 isodate-0.6.1 maybe-else-0.2.1 mbstrdecoder-1.1.3 msoffcrypto-tool-5.1.1 office365-0.3.15 olefile-0.46 parsedatetime-2.6 pathmagic-0.3.14 prettierfier-1.0.3 pydub-0.25.1 pyinstrument-4.5.0 pyiotools-0.3.18 pymiscutils-0.3.14 pyperclip-1.8.2 pysubtypes-0.3.18 python-docx-0.8.11 pytz-deprecation-shim-0.1.0.post0 readchar-4.0.5 simplejson-3.19.1 stringcase-1.2.0 typepy-1.3.1 tzdata-2023.3 tzlocal-4.3.1 xlsxwriter-3.1.2\n",
            "Collecting Office365-REST-Python-Client\n",
            "  Downloading Office365_REST_Python_Client-2.4.2-py3-none-any.whl (909 kB)\n",
            "\u001b[2K     \u001b[90m━━━━━━━━━━━━━━━━━━━━━━━━━━━━━━━━━━━━━━━\u001b[0m \u001b[32m909.2/909.2 kB\u001b[0m \u001b[31m8.9 MB/s\u001b[0m eta \u001b[36m0:00:00\u001b[0m\n",
            "\u001b[?25hRequirement already satisfied: requests in /usr/local/lib/python3.10/dist-packages (from Office365-REST-Python-Client) (2.27.1)\n",
            "Collecting msal (from Office365-REST-Python-Client)\n",
            "  Downloading msal-1.22.0-py2.py3-none-any.whl (90 kB)\n",
            "\u001b[2K     \u001b[90m━━━━━━━━━━━━━━━━━━━━━━━━━━━━━━━━━━━━━━━\u001b[0m \u001b[32m90.0/90.0 kB\u001b[0m \u001b[31m851.5 kB/s\u001b[0m eta \u001b[36m0:00:00\u001b[0m\n",
            "\u001b[?25hRequirement already satisfied: pytz in /usr/local/lib/python3.10/dist-packages (from Office365-REST-Python-Client) (2022.7.1)\n",
            "Requirement already satisfied: PyJWT[crypto]<3,>=1.0.0 in /usr/lib/python3/dist-packages (from msal->Office365-REST-Python-Client) (2.3.0)\n",
            "Requirement already satisfied: cryptography<43,>=0.6 in /usr/local/lib/python3.10/dist-packages (from msal->Office365-REST-Python-Client) (41.0.2)\n",
            "Requirement already satisfied: urllib3<1.27,>=1.21.1 in /usr/local/lib/python3.10/dist-packages (from requests->Office365-REST-Python-Client) (1.26.16)\n",
            "Requirement already satisfied: certifi>=2017.4.17 in /usr/local/lib/python3.10/dist-packages (from requests->Office365-REST-Python-Client) (2023.5.7)\n",
            "Requirement already satisfied: charset-normalizer~=2.0.0 in /usr/local/lib/python3.10/dist-packages (from requests->Office365-REST-Python-Client) (2.0.12)\n",
            "Requirement already satisfied: idna<4,>=2.5 in /usr/local/lib/python3.10/dist-packages (from requests->Office365-REST-Python-Client) (3.4)\n",
            "Requirement already satisfied: cffi>=1.12 in /usr/local/lib/python3.10/dist-packages (from cryptography<43,>=0.6->msal->Office365-REST-Python-Client) (1.15.1)\n",
            "Requirement already satisfied: pycparser in /usr/local/lib/python3.10/dist-packages (from cffi>=1.12->cryptography<43,>=0.6->msal->Office365-REST-Python-Client) (2.21)\n",
            "Installing collected packages: msal, Office365-REST-Python-Client\n",
            "Successfully installed Office365-REST-Python-Client-2.4.2 msal-1.22.0\n"
          ]
        }
      ],
      "source": [
        "!pip install office365\n",
        "!pip install Office365-REST-Python-Client"
      ]
    },
    {
      "cell_type": "code",
      "execution_count": 3,
      "metadata": {
        "id": "dZTBucbC4r2U"
      },
      "outputs": [],
      "source": [
        "from office365.runtime.auth.authentication_context import AuthenticationContext\n",
        "from office365.sharepoint.client_context import ClientContext\n",
        "from office365.runtime.auth.client_credential import ClientCredential\n",
        "from office365.sharepoint.files.file import File\n",
        "\n",
        "####inputs########\n",
        "# This will be the URL that points to your sharepoint site.\n",
        "# Make sure you change only the parts of the link that start with \"Your\"\n",
        "url_shrpt = 'https://ihuedu.sharepoint.com/sites/EDYTEProject2023/'\n",
        "username_shrpt = '###############'\n",
        "password_shrpt = '###############'\n",
        "folder_files_url_shrpt = '/sites/EDYTEProject2023/Shared%20Documents/General/wp5_data/raw_Data/'\n",
        "folder_analysis_url_shrpt = '/sites/EDYTEProject2023/Shared%20Documents/General/wp5_data/analysis_exports/'"
      ]
    },
    {
      "cell_type": "code",
      "execution_count": 4,
      "metadata": {
        "colab": {
          "base_uri": "https://localhost:8080/"
        },
        "id": "ZiUJe4fWl13Q",
        "outputId": "a186e6f8-04c6-4065-b5d1-52a88dc53a89"
      },
      "outputs": [
        {
          "name": "stdout",
          "output_type": "stream",
          "text": [
            "Authenticated into sharepoint as:  EDYTE Project 2023\n"
          ]
        }
      ],
      "source": [
        "###Authentication###For authenticating into your sharepoint site###\n",
        "ctx_auth = AuthenticationContext(url_shrpt)\n",
        "if ctx_auth.acquire_token_for_user(username_shrpt, password_shrpt):\n",
        "  ctx = ClientContext(url_shrpt, ctx_auth)\n",
        "  web = ctx.web\n",
        "  ctx.load(web)\n",
        "  ctx.execute_query()\n",
        "  print('Authenticated into sharepoint as: ',web.properties['Title'])\n",
        "\n",
        "else:\n",
        "  print(ctx_auth.get_last_error())\n",
        "############################"
      ]
    },
    {
      "cell_type": "code",
      "execution_count": 5,
      "metadata": {
        "colab": {
          "base_uri": "https://localhost:8080/"
        },
        "id": "VtBgufQWl4Lb",
        "outputId": "d87e55af-c1ec-4dcc-d70e-b45185218b6f"
      },
      "outputs": [
        {
          "name": "stdout",
          "output_type": "stream",
          "text": [
            "['process-provision-digital-locations.csv', 'process-steps-digital.csv', 'process-steps.csv', 'process-evidences-cost.csv', 'process.csv', 'process-rules.csv', 'process-conditions.csv', 'process-evidences.csv']\n"
          ]
        }
      ],
      "source": [
        "####Function for extracting the file names of a folder in sharepoint###\n",
        "###If you want to extract the folder names instead of file names, you have to change \"sub_folders = folder.files\" to \"sub_folders = folder.folders\" in the below function\n",
        "\n",
        "global print_folder_contents\n",
        "def print_folder_contents(ctx, folder_url):\n",
        "    try:\n",
        "\n",
        "        folder = ctx.web.get_folder_by_server_relative_url(folder_url)\n",
        "        fold_names = []\n",
        "        sub_folders = folder.files #Replace files with folders for getting list of folders\n",
        "        ctx.load(sub_folders)\n",
        "        ctx.execute_query()\n",
        "\n",
        "        for s_folder in sub_folders:\n",
        "\n",
        "            fold_names.append(s_folder.properties[\"Name\"])\n",
        "\n",
        "        return fold_names\n",
        "\n",
        "    except Exception as e:\n",
        "        print('Problem printing out library contents: ', e)\n",
        "######################################################\n",
        "\n",
        "# Call the function by giving your folder URL as input\n",
        "filelist_shrpt=print_folder_contents(ctx,folder_files_url_shrpt)\n",
        "#Print the list of files present in the folder\n",
        "print(filelist_shrpt)"
      ]
    },
    {
      "cell_type": "markdown",
      "metadata": {
        "id": "6MVO51-bl_hE"
      },
      "source": [
        "# Import Data"
      ]
    },
    {
      "cell_type": "code",
      "execution_count": 6,
      "metadata": {
        "id": "gxEwErSol3pI"
      },
      "outputs": [],
      "source": [
        "import pandas as pd\n",
        "import csv\n",
        "import numpy as np\n",
        "import io\n",
        "import os\n",
        "import tempfile"
      ]
    },
    {
      "cell_type": "code",
      "execution_count": 37,
      "metadata": {
        "id": "9GIw-LpDnJz2"
      },
      "outputs": [],
      "source": [
        "def process_csv_file(file_name, column_names):\n",
        "    file_url= folder_files_url_shrpt+file_name\n",
        "    response = File.open_binary(ctx, file_url)  # Assuming File is imported and ctx is defined\n",
        "    df = pd.read_csv(io.BytesIO(response.content))\n",
        "    df = df.dropna(subset=column_names)\n",
        "    df = df[column_names]\n",
        "    df.rename(columns = {column_names[-1]:\"word\"}, inplace = True)\n",
        "\n",
        "\n",
        "    column_names_list = df.columns.tolist()\n",
        "\n",
        "    if column_names_list[0] == \"id\":\n",
        "      df ['ihu_unique_step_id'] = 'N/A'\n",
        "      df ['ihu_unique_step_digital_id'] = 'N/A'\n",
        "      df ['ihu_unique_evidence_id'] = 'N/A'\n",
        "      df ['ihu_unique_condition_id'] = 'N/A'\n",
        "\n",
        "    elif column_names_list[1] == \"ihu_unique_step_id\":\n",
        "      df ['id'] = 'N/A'\n",
        "      df ['ihu_unique_step_digital_id'] = 'N/A'\n",
        "      df ['ihu_unique_evidence_id'] = 'N/A'\n",
        "      df ['ihu_unique_condition_id'] = 'N/A'\n",
        "\n",
        "    elif column_names_list[1] == \"ihu_unique_step_digital_id\":\n",
        "      df ['id'] = 'N/A'\n",
        "      df ['ihu_unique_step_id'] = 'N/A'\n",
        "      df ['ihu_unique_evidence_id'] = 'N/A'\n",
        "      df ['ihu_unique_condition_id'] = 'N/A'\n",
        "\n",
        "    elif column_names_list[1] == \"ihu_unique_evidence_id\":\n",
        "      df ['id'] = 'N/A'\n",
        "      df ['ihu_unique_step_id'] = 'N/A'\n",
        "      df ['ihu_unique_step_digital_id'] = 'N/A'\n",
        "      df ['ihu_unique_condition_id'] = 'N/A'\n",
        "\n",
        "    elif column_names_list[1] == \"ihu_unique_condition_id\":\n",
        "      df ['id'] = 'N/A'\n",
        "      df ['ihu_unique_step_id'] = 'N/A'\n",
        "      df ['ihu_unique_step_digital_id'] = 'N/A'\n",
        "      df ['ihu_unique_evidence_id'] = 'N/A'\n",
        "\n",
        "    #docs = df[column_names[-1]].values.tolist()\n",
        "    return df"
      ]
    },
    {
      "cell_type": "code",
      "execution_count": 38,
      "metadata": {
        "id": "GM0k82BMoMMU"
      },
      "outputs": [],
      "source": [
        "#process steps\n",
        "process_steps = process_csv_file( \"process-steps.csv\", [\"process_id\", \"ihu_unique_step_id\", \"step_title\"])\n",
        "\n",
        "#process steps digital\n",
        "process_digital_steps = process_csv_file( \"process-steps-digital.csv\", [\"process_id\", \"ihu_unique_step_digital_id\", \"step_digital_title\"])\n",
        "\n",
        "#process title\n",
        "process_title = process_csv_file( \"process.csv\", [\"id\", \"title_el\"])\n",
        "\n",
        "#process evidences\n",
        "process_evidences = process_csv_file( \"process-evidences.csv\", [\"process_id\", \"ihu_unique_evidence_id\", \"evidence_description\"])\n",
        "\n",
        "#process conditions\n",
        "process_conditions = process_csv_file( \"process-conditions.csv\", [\"process_id\", \"ihu_unique_condition_id\", \"conditions_name\"])"
      ]
    },
    {
      "cell_type": "code",
      "execution_count": 40,
      "metadata": {
        "id": "-1nhfT3n_FF_"
      },
      "outputs": [],
      "source": [
        "# Concatenate the data frames\n",
        "combined = pd.concat([process_steps, process_digital_steps, process_title, process_evidences, process_conditions], ignore_index=True, sort=False)\n",
        "\n",
        "# Reorder the columns\n",
        "combined = combined[['id', 'ihu_unique_step_id', 'ihu_unique_step_digital_id', 'ihu_unique_evidence_id', 'ihu_unique_condition_id', 'word']]"
      ]
    },
    {
      "cell_type": "code",
      "execution_count": 42,
      "metadata": {
        "id": "lsEhdEKWEGQc"
      },
      "outputs": [],
      "source": [
        "docs = combined[\"word\"].values.tolist()"
      ]
    },
    {
      "cell_type": "markdown",
      "metadata": {
        "id": "SBcNmZJzSTY8"
      },
      "source": [
        "# **Topic Modeling**\n",
        "\n"
      ]
    },
    {
      "cell_type": "markdown",
      "metadata": {
        "id": "3cUpCCjrxNh4"
      },
      "source": [
        "## Functions"
      ]
    },
    {
      "cell_type": "markdown",
      "metadata": {
        "id": "rq2OYIP54JUG"
      },
      "source": [
        "### Stop Words for Count Vectorizer"
      ]
    },
    {
      "cell_type": "code",
      "execution_count": 44,
      "metadata": {
        "colab": {
          "base_uri": "https://localhost:8080/"
        },
        "id": "WDBUxbB14O_G",
        "outputId": "c26f0233-1e6e-4534-8ec3-13e7785471c7"
      },
      "outputs": [
        {
          "name": "stderr",
          "output_type": "stream",
          "text": [
            "[nltk_data] Downloading package stopwords to /root/nltk_data...\n",
            "[nltk_data]   Unzipping corpora/stopwords.zip.\n"
          ]
        }
      ],
      "source": [
        "# get Greek stop_words\n",
        "import nltk\n",
        "nltk.download('stopwords')\n",
        "from nltk.corpus import stopwords\n",
        "greek_stopwords = stopwords.words('greek')"
      ]
    },
    {
      "cell_type": "code",
      "execution_count": 45,
      "metadata": {
        "id": "6XnfDF7H4Re_"
      },
      "outputs": [],
      "source": [
        "new_words = ['της', 'τη', 'του', 'από']\n",
        "\n",
        "for word in new_words:\n",
        "  greek_stopwords.append(word)"
      ]
    },
    {
      "cell_type": "markdown",
      "metadata": {
        "id": "YVhcpLnJ4SKO"
      },
      "source": [
        "### Topic"
      ]
    },
    {
      "cell_type": "code",
      "execution_count": 46,
      "metadata": {
        "id": "on_616bYxygu"
      },
      "outputs": [],
      "source": [
        "from bertopic import BERTopic\n",
        "from sentence_transformers import SentenceTransformer # Embeddings\n",
        "from umap import UMAP #Dimensionality reduction\n",
        "from hdbscan import HDBSCAN #clustering\n",
        "from sklearn.feature_extraction.text import CountVectorizer # CountVectorizer\n",
        "from bertopic.vectorizers import ClassTfidfTransformer\n",
        "from transformers.pipelines import pipeline"
      ]
    },
    {
      "cell_type": "code",
      "execution_count": 47,
      "metadata": {
        "id": "FyTNM6BWxMyx"
      },
      "outputs": [],
      "source": [
        "def create_topic_model(n_neighbors, n_components, min_dist, min_cluster_size, documents):\n",
        "    # Define the embedding model\n",
        "    embedding_model = SentenceTransformer(\"paraphrase-multilingual-mpnet-base-v2\")\n",
        "\n",
        "    # Define the UMAP model\n",
        "    umap_model = UMAP(n_neighbors=n_neighbors, n_components=n_components, min_dist=min_dist, metric='cosine') #increasing n_neighbors in general larger clusters | n_components - in which dimension. Too small loss of info, too high performance | min_dist how far the points should be in low dimensional\n",
        "\n",
        "    # Define the HDBSCAN model\n",
        "    hdbscan_model = HDBSCAN(min_cluster_size=min_cluster_size, metric='euclidean', cluster_selection_method='eom') #min_cluster_size, increasing -> fewer clusters | cluster_selection_method also the \"leaf\" method available (smaller clusters)\n",
        "\n",
        "    # Define the vectorizer model\n",
        "    vectorizer_model = CountVectorizer(ngram_range=(1, 3), stop_words=greek_stopwords) #ngram_range combination of words\n",
        "\n",
        "    # Define the class-TFIDF transformer\n",
        "    ctfidf_model = ClassTfidfTransformer(bm25_weighting=True)\n",
        "\n",
        "    # Create the topic model\n",
        "    topic_model = BERTopic(embedding_model=embedding_model, umap_model=umap_model, hdbscan_model=hdbscan_model,\n",
        "                           vectorizer_model=vectorizer_model, ctfidf_model=ctfidf_model)\n",
        "\n",
        "    # Fit the topic model to the process steps documents\n",
        "    topics, probs = topic_model.fit_transform(documents)\n",
        "\n",
        "    return topic_model, topics, probs\n"
      ]
    },
    {
      "cell_type": "code",
      "execution_count": 48,
      "metadata": {
        "id": "oxlDOt8-0eZS"
      },
      "outputs": [],
      "source": [
        "def reduce_outliers(documents, topic_model, topics, threshold):\n",
        "    # Define the vectorizer model\n",
        "    vectorizer_model = CountVectorizer(ngram_range=(1, 3), stop_words=greek_stopwords) #ngram_range combination of words\n",
        "\n",
        "    # Define the class-TFIDF transformer\n",
        "    ctfidf_model = ClassTfidfTransformer(bm25_weighting=True)\n",
        "\n",
        "    # Reduce outliers using embeddings\n",
        "    new_topics = topic_model.reduce_outliers(documents, topics, strategy=\"embeddings\", threshold=threshold)\n",
        "\n",
        "    # Update topics\n",
        "    topic_model.update_topics(documents, topics=new_topics, vectorizer_model=vectorizer_model, ctfidf_model=ctfidf_model)\n"
      ]
    },
    {
      "cell_type": "code",
      "execution_count": 49,
      "metadata": {
        "id": "ZBR8z9FK2NIe"
      },
      "outputs": [],
      "source": [
        "def merge_topics(documents, topic_model, list):\n",
        "    # Define the vectorizer model\n",
        "    vectorizer_model = CountVectorizer(ngram_range=(1, 3), stop_words=greek_stopwords) #ngram_range combination of words\n",
        "\n",
        "    # Define the class-TFIDF transformer\n",
        "    ctfidf_model = ClassTfidfTransformer(bm25_weighting=True)\n",
        "\n",
        "    # Merge the specified topics\n",
        "    merged_topics = topic_model.merge_topics(documents, topics_to_merge)\n",
        "\n",
        "    # Update the topics with the merged topics\n",
        "    topic_model.update_topics(documents, topics=merged_topics, vectorizer_model=vectorizer_model,\n",
        "                              ctfidf_model=ctfidf_model)"
      ]
    },
    {
      "cell_type": "markdown",
      "metadata": {
        "id": "Vvtsxa6HVuJb"
      },
      "source": [
        "# Training"
      ]
    },
    {
      "cell_type": "code",
      "execution_count": 56,
      "metadata": {
        "colab": {
          "base_uri": "https://localhost:8080/",
          "height": 81
        },
        "id": "NCu5adEgyTRP",
        "outputId": "83cd5ef6-9646-41d1-c662-bf00d30fc725"
      },
      "outputs": [
        {
          "data": {
            "text/html": [
              "\n",
              "\n",
              "  <div id=\"df-13bd2322-e5df-44a7-99e3-2f19b6edfc65\">\n",
              "    <div class=\"colab-df-container\">\n",
              "      <div>\n",
              "<style scoped>\n",
              "    .dataframe tbody tr th:only-of-type {\n",
              "        vertical-align: middle;\n",
              "    }\n",
              "\n",
              "    .dataframe tbody tr th {\n",
              "        vertical-align: top;\n",
              "    }\n",
              "\n",
              "    .dataframe thead th {\n",
              "        text-align: right;\n",
              "    }\n",
              "</style>\n",
              "<table border=\"1\" class=\"dataframe\">\n",
              "  <thead>\n",
              "    <tr style=\"text-align: right;\">\n",
              "      <th></th>\n",
              "      <th>Topic</th>\n",
              "      <th>Count</th>\n",
              "      <th>Name</th>\n",
              "      <th>Representation</th>\n",
              "      <th>Representative_Docs</th>\n",
              "    </tr>\n",
              "  </thead>\n",
              "  <tbody>\n",
              "    <tr>\n",
              "      <th>0</th>\n",
              "      <td>-1</td>\n",
              "      <td>18058</td>\n",
              "      <td>-1_λειτουργίας_φορέα_ίδρυσης_υγείας</td>\n",
              "      <td>[λειτουργίας, φορέα, ίδρυσης, υγείας, ασφάλεια...</td>\n",
              "      <td>[Ο ενδιαφερόμενος πρέπει να είναι κάτοχος πτυχ...</td>\n",
              "    </tr>\n",
              "  </tbody>\n",
              "</table>\n",
              "</div>\n",
              "      <button class=\"colab-df-convert\" onclick=\"convertToInteractive('df-13bd2322-e5df-44a7-99e3-2f19b6edfc65')\"\n",
              "              title=\"Convert this dataframe to an interactive table.\"\n",
              "              style=\"display:none;\">\n",
              "\n",
              "  <svg xmlns=\"http://www.w3.org/2000/svg\" height=\"24px\"viewBox=\"0 0 24 24\"\n",
              "       width=\"24px\">\n",
              "    <path d=\"M0 0h24v24H0V0z\" fill=\"none\"/>\n",
              "    <path d=\"M18.56 5.44l.94 2.06.94-2.06 2.06-.94-2.06-.94-.94-2.06-.94 2.06-2.06.94zm-11 1L8.5 8.5l.94-2.06 2.06-.94-2.06-.94L8.5 2.5l-.94 2.06-2.06.94zm10 10l.94 2.06.94-2.06 2.06-.94-2.06-.94-.94-2.06-.94 2.06-2.06.94z\"/><path d=\"M17.41 7.96l-1.37-1.37c-.4-.4-.92-.59-1.43-.59-.52 0-1.04.2-1.43.59L10.3 9.45l-7.72 7.72c-.78.78-.78 2.05 0 2.83L4 21.41c.39.39.9.59 1.41.59.51 0 1.02-.2 1.41-.59l7.78-7.78 2.81-2.81c.8-.78.8-2.07 0-2.86zM5.41 20L4 18.59l7.72-7.72 1.47 1.35L5.41 20z\"/>\n",
              "  </svg>\n",
              "      </button>\n",
              "\n",
              "\n",
              "\n",
              "    <div id=\"df-54fdbf6c-7a98-49e4-b726-516c5d3dc3c0\">\n",
              "      <button class=\"colab-df-quickchart\" onclick=\"quickchart('df-54fdbf6c-7a98-49e4-b726-516c5d3dc3c0')\"\n",
              "              title=\"Suggest charts.\"\n",
              "              style=\"display:none;\">\n",
              "\n",
              "<svg xmlns=\"http://www.w3.org/2000/svg\" height=\"24px\"viewBox=\"0 0 24 24\"\n",
              "     width=\"24px\">\n",
              "    <g>\n",
              "        <path d=\"M19 3H5c-1.1 0-2 .9-2 2v14c0 1.1.9 2 2 2h14c1.1 0 2-.9 2-2V5c0-1.1-.9-2-2-2zM9 17H7v-7h2v7zm4 0h-2V7h2v10zm4 0h-2v-4h2v4z\"/>\n",
              "    </g>\n",
              "</svg>\n",
              "      </button>\n",
              "    </div>\n",
              "\n",
              "<style>\n",
              "  .colab-df-quickchart {\n",
              "    background-color: #E8F0FE;\n",
              "    border: none;\n",
              "    border-radius: 50%;\n",
              "    cursor: pointer;\n",
              "    display: none;\n",
              "    fill: #1967D2;\n",
              "    height: 32px;\n",
              "    padding: 0 0 0 0;\n",
              "    width: 32px;\n",
              "  }\n",
              "\n",
              "  .colab-df-quickchart:hover {\n",
              "    background-color: #E2EBFA;\n",
              "    box-shadow: 0px 1px 2px rgba(60, 64, 67, 0.3), 0px 1px 3px 1px rgba(60, 64, 67, 0.15);\n",
              "    fill: #174EA6;\n",
              "  }\n",
              "\n",
              "  [theme=dark] .colab-df-quickchart {\n",
              "    background-color: #3B4455;\n",
              "    fill: #D2E3FC;\n",
              "  }\n",
              "\n",
              "  [theme=dark] .colab-df-quickchart:hover {\n",
              "    background-color: #434B5C;\n",
              "    box-shadow: 0px 1px 3px 1px rgba(0, 0, 0, 0.15);\n",
              "    filter: drop-shadow(0px 1px 2px rgba(0, 0, 0, 0.3));\n",
              "    fill: #FFFFFF;\n",
              "  }\n",
              "</style>\n",
              "\n",
              "    <script>\n",
              "      async function quickchart(key) {\n",
              "        const containerElement = document.querySelector('#' + key);\n",
              "        const charts = await google.colab.kernel.invokeFunction(\n",
              "            'suggestCharts', [key], {});\n",
              "      }\n",
              "    </script>\n",
              "\n",
              "      <script>\n",
              "\n",
              "function displayQuickchartButton(domScope) {\n",
              "  let quickchartButtonEl =\n",
              "    domScope.querySelector('#df-54fdbf6c-7a98-49e4-b726-516c5d3dc3c0 button.colab-df-quickchart');\n",
              "  quickchartButtonEl.style.display =\n",
              "    google.colab.kernel.accessAllowed ? 'block' : 'none';\n",
              "}\n",
              "\n",
              "        displayQuickchartButton(document);\n",
              "      </script>\n",
              "      <style>\n",
              "    .colab-df-container {\n",
              "      display:flex;\n",
              "      flex-wrap:wrap;\n",
              "      gap: 12px;\n",
              "    }\n",
              "\n",
              "    .colab-df-convert {\n",
              "      background-color: #E8F0FE;\n",
              "      border: none;\n",
              "      border-radius: 50%;\n",
              "      cursor: pointer;\n",
              "      display: none;\n",
              "      fill: #1967D2;\n",
              "      height: 32px;\n",
              "      padding: 0 0 0 0;\n",
              "      width: 32px;\n",
              "    }\n",
              "\n",
              "    .colab-df-convert:hover {\n",
              "      background-color: #E2EBFA;\n",
              "      box-shadow: 0px 1px 2px rgba(60, 64, 67, 0.3), 0px 1px 3px 1px rgba(60, 64, 67, 0.15);\n",
              "      fill: #174EA6;\n",
              "    }\n",
              "\n",
              "    [theme=dark] .colab-df-convert {\n",
              "      background-color: #3B4455;\n",
              "      fill: #D2E3FC;\n",
              "    }\n",
              "\n",
              "    [theme=dark] .colab-df-convert:hover {\n",
              "      background-color: #434B5C;\n",
              "      box-shadow: 0px 1px 3px 1px rgba(0, 0, 0, 0.15);\n",
              "      filter: drop-shadow(0px 1px 2px rgba(0, 0, 0, 0.3));\n",
              "      fill: #FFFFFF;\n",
              "    }\n",
              "  </style>\n",
              "\n",
              "      <script>\n",
              "        const buttonEl =\n",
              "          document.querySelector('#df-13bd2322-e5df-44a7-99e3-2f19b6edfc65 button.colab-df-convert');\n",
              "        buttonEl.style.display =\n",
              "          google.colab.kernel.accessAllowed ? 'block' : 'none';\n",
              "\n",
              "        async function convertToInteractive(key) {\n",
              "          const element = document.querySelector('#df-13bd2322-e5df-44a7-99e3-2f19b6edfc65');\n",
              "          const dataTable =\n",
              "            await google.colab.kernel.invokeFunction('convertToInteractive',\n",
              "                                                     [key], {});\n",
              "          if (!dataTable) return;\n",
              "\n",
              "          const docLinkHtml = 'Like what you see? Visit the ' +\n",
              "            '<a target=\"_blank\" href=https://colab.research.google.com/notebooks/data_table.ipynb>data table notebook</a>'\n",
              "            + ' to learn more about interactive tables.';\n",
              "          element.innerHTML = '';\n",
              "          dataTable['output_type'] = 'display_data';\n",
              "          await google.colab.output.renderOutput(dataTable, element);\n",
              "          const docLink = document.createElement('div');\n",
              "          docLink.innerHTML = docLinkHtml;\n",
              "          element.appendChild(docLink);\n",
              "        }\n",
              "      </script>\n",
              "    </div>\n",
              "  </div>\n"
            ],
            "text/plain": [
              "   Topic  Count                                 Name  \\\n",
              "0     -1  18058  -1_λειτουργίας_φορέα_ίδρυσης_υγείας   \n",
              "\n",
              "                                      Representation  \\\n",
              "0  [λειτουργίας, φορέα, ίδρυσης, υγείας, ασφάλεια...   \n",
              "\n",
              "                                 Representative_Docs  \n",
              "0  [Ο ενδιαφερόμενος πρέπει να είναι κάτοχος πτυχ...  "
            ]
          },
          "execution_count": 56,
          "metadata": {},
          "output_type": "execute_result"
        }
      ],
      "source": [
        "full_topic_model, full_topics, steps_probs = create_topic_model(50, 10, 0.1, 15, docs)\n",
        "freq = full_topic_model.get_topic_info(); freq.head(1)"
      ]
    },
    {
      "cell_type": "code",
      "execution_count": 57,
      "metadata": {
        "colab": {
          "base_uri": "https://localhost:8080/"
        },
        "id": "6n-4gw9e8vfk",
        "outputId": "3086feb3-95f0-426a-fb7d-b1fbad4c3301"
      },
      "outputs": [
        {
          "data": {
            "text/plain": [
              "723"
            ]
          },
          "execution_count": 57,
          "metadata": {},
          "output_type": "execute_result"
        }
      ],
      "source": [
        "freq[\"Topic\"].nunique()"
      ]
    },
    {
      "cell_type": "markdown",
      "metadata": {
        "id": "-BtOgifV7Q-H"
      },
      "source": [
        "-1 refers to all outliers. But this amount is quite high, so we would like to reduce the noise. Closely related items will be assigned in the same topic. And in that topic they would be recognised as unique in the similarity process"
      ]
    },
    {
      "cell_type": "code",
      "execution_count": 60,
      "metadata": {
        "colab": {
          "base_uri": "https://localhost:8080/",
          "height": 81
        },
        "id": "wfHIJnu3BHHz",
        "outputId": "19ffca60-b2af-4c3d-a48b-8b9fefb77f87"
      },
      "outputs": [
        {
          "data": {
            "text/html": [
              "\n",
              "\n",
              "  <div id=\"df-e336043a-9976-4af9-9734-f6ac8b5bfe11\">\n",
              "    <div class=\"colab-df-container\">\n",
              "      <div>\n",
              "<style scoped>\n",
              "    .dataframe tbody tr th:only-of-type {\n",
              "        vertical-align: middle;\n",
              "    }\n",
              "\n",
              "    .dataframe tbody tr th {\n",
              "        vertical-align: top;\n",
              "    }\n",
              "\n",
              "    .dataframe thead th {\n",
              "        text-align: right;\n",
              "    }\n",
              "</style>\n",
              "<table border=\"1\" class=\"dataframe\">\n",
              "  <thead>\n",
              "    <tr style=\"text-align: right;\">\n",
              "      <th></th>\n",
              "      <th>Topic</th>\n",
              "      <th>Count</th>\n",
              "      <th>Name</th>\n",
              "      <th>Representation</th>\n",
              "      <th>Representative_Docs</th>\n",
              "    </tr>\n",
              "  </thead>\n",
              "  <tbody>\n",
              "    <tr>\n",
              "      <th>0</th>\n",
              "      <td>-1</td>\n",
              "      <td>2650</td>\n",
              "      <td>-1_ηλικίας_τουλάχιστον_έτος_έτη</td>\n",
              "      <td>[ηλικίας, τουλάχιστον, έτος, έτη, μόνο, άλλη, ...</td>\n",
              "      <td>[Ο ενδιαφερόμενος πρέπει να είναι κάτοχος πτυχ...</td>\n",
              "    </tr>\n",
              "  </tbody>\n",
              "</table>\n",
              "</div>\n",
              "      <button class=\"colab-df-convert\" onclick=\"convertToInteractive('df-e336043a-9976-4af9-9734-f6ac8b5bfe11')\"\n",
              "              title=\"Convert this dataframe to an interactive table.\"\n",
              "              style=\"display:none;\">\n",
              "\n",
              "  <svg xmlns=\"http://www.w3.org/2000/svg\" height=\"24px\"viewBox=\"0 0 24 24\"\n",
              "       width=\"24px\">\n",
              "    <path d=\"M0 0h24v24H0V0z\" fill=\"none\"/>\n",
              "    <path d=\"M18.56 5.44l.94 2.06.94-2.06 2.06-.94-2.06-.94-.94-2.06-.94 2.06-2.06.94zm-11 1L8.5 8.5l.94-2.06 2.06-.94-2.06-.94L8.5 2.5l-.94 2.06-2.06.94zm10 10l.94 2.06.94-2.06 2.06-.94-2.06-.94-.94-2.06-.94 2.06-2.06.94z\"/><path d=\"M17.41 7.96l-1.37-1.37c-.4-.4-.92-.59-1.43-.59-.52 0-1.04.2-1.43.59L10.3 9.45l-7.72 7.72c-.78.78-.78 2.05 0 2.83L4 21.41c.39.39.9.59 1.41.59.51 0 1.02-.2 1.41-.59l7.78-7.78 2.81-2.81c.8-.78.8-2.07 0-2.86zM5.41 20L4 18.59l7.72-7.72 1.47 1.35L5.41 20z\"/>\n",
              "  </svg>\n",
              "      </button>\n",
              "\n",
              "\n",
              "\n",
              "    <div id=\"df-3763d0c7-f3b6-4b02-8cc1-72689b5799bc\">\n",
              "      <button class=\"colab-df-quickchart\" onclick=\"quickchart('df-3763d0c7-f3b6-4b02-8cc1-72689b5799bc')\"\n",
              "              title=\"Suggest charts.\"\n",
              "              style=\"display:none;\">\n",
              "\n",
              "<svg xmlns=\"http://www.w3.org/2000/svg\" height=\"24px\"viewBox=\"0 0 24 24\"\n",
              "     width=\"24px\">\n",
              "    <g>\n",
              "        <path d=\"M19 3H5c-1.1 0-2 .9-2 2v14c0 1.1.9 2 2 2h14c1.1 0 2-.9 2-2V5c0-1.1-.9-2-2-2zM9 17H7v-7h2v7zm4 0h-2V7h2v10zm4 0h-2v-4h2v4z\"/>\n",
              "    </g>\n",
              "</svg>\n",
              "      </button>\n",
              "    </div>\n",
              "\n",
              "<style>\n",
              "  .colab-df-quickchart {\n",
              "    background-color: #E8F0FE;\n",
              "    border: none;\n",
              "    border-radius: 50%;\n",
              "    cursor: pointer;\n",
              "    display: none;\n",
              "    fill: #1967D2;\n",
              "    height: 32px;\n",
              "    padding: 0 0 0 0;\n",
              "    width: 32px;\n",
              "  }\n",
              "\n",
              "  .colab-df-quickchart:hover {\n",
              "    background-color: #E2EBFA;\n",
              "    box-shadow: 0px 1px 2px rgba(60, 64, 67, 0.3), 0px 1px 3px 1px rgba(60, 64, 67, 0.15);\n",
              "    fill: #174EA6;\n",
              "  }\n",
              "\n",
              "  [theme=dark] .colab-df-quickchart {\n",
              "    background-color: #3B4455;\n",
              "    fill: #D2E3FC;\n",
              "  }\n",
              "\n",
              "  [theme=dark] .colab-df-quickchart:hover {\n",
              "    background-color: #434B5C;\n",
              "    box-shadow: 0px 1px 3px 1px rgba(0, 0, 0, 0.15);\n",
              "    filter: drop-shadow(0px 1px 2px rgba(0, 0, 0, 0.3));\n",
              "    fill: #FFFFFF;\n",
              "  }\n",
              "</style>\n",
              "\n",
              "    <script>\n",
              "      async function quickchart(key) {\n",
              "        const containerElement = document.querySelector('#' + key);\n",
              "        const charts = await google.colab.kernel.invokeFunction(\n",
              "            'suggestCharts', [key], {});\n",
              "      }\n",
              "    </script>\n",
              "\n",
              "      <script>\n",
              "\n",
              "function displayQuickchartButton(domScope) {\n",
              "  let quickchartButtonEl =\n",
              "    domScope.querySelector('#df-3763d0c7-f3b6-4b02-8cc1-72689b5799bc button.colab-df-quickchart');\n",
              "  quickchartButtonEl.style.display =\n",
              "    google.colab.kernel.accessAllowed ? 'block' : 'none';\n",
              "}\n",
              "\n",
              "        displayQuickchartButton(document);\n",
              "      </script>\n",
              "      <style>\n",
              "    .colab-df-container {\n",
              "      display:flex;\n",
              "      flex-wrap:wrap;\n",
              "      gap: 12px;\n",
              "    }\n",
              "\n",
              "    .colab-df-convert {\n",
              "      background-color: #E8F0FE;\n",
              "      border: none;\n",
              "      border-radius: 50%;\n",
              "      cursor: pointer;\n",
              "      display: none;\n",
              "      fill: #1967D2;\n",
              "      height: 32px;\n",
              "      padding: 0 0 0 0;\n",
              "      width: 32px;\n",
              "    }\n",
              "\n",
              "    .colab-df-convert:hover {\n",
              "      background-color: #E2EBFA;\n",
              "      box-shadow: 0px 1px 2px rgba(60, 64, 67, 0.3), 0px 1px 3px 1px rgba(60, 64, 67, 0.15);\n",
              "      fill: #174EA6;\n",
              "    }\n",
              "\n",
              "    [theme=dark] .colab-df-convert {\n",
              "      background-color: #3B4455;\n",
              "      fill: #D2E3FC;\n",
              "    }\n",
              "\n",
              "    [theme=dark] .colab-df-convert:hover {\n",
              "      background-color: #434B5C;\n",
              "      box-shadow: 0px 1px 3px 1px rgba(0, 0, 0, 0.15);\n",
              "      filter: drop-shadow(0px 1px 2px rgba(0, 0, 0, 0.3));\n",
              "      fill: #FFFFFF;\n",
              "    }\n",
              "  </style>\n",
              "\n",
              "      <script>\n",
              "        const buttonEl =\n",
              "          document.querySelector('#df-e336043a-9976-4af9-9734-f6ac8b5bfe11 button.colab-df-convert');\n",
              "        buttonEl.style.display =\n",
              "          google.colab.kernel.accessAllowed ? 'block' : 'none';\n",
              "\n",
              "        async function convertToInteractive(key) {\n",
              "          const element = document.querySelector('#df-e336043a-9976-4af9-9734-f6ac8b5bfe11');\n",
              "          const dataTable =\n",
              "            await google.colab.kernel.invokeFunction('convertToInteractive',\n",
              "                                                     [key], {});\n",
              "          if (!dataTable) return;\n",
              "\n",
              "          const docLinkHtml = 'Like what you see? Visit the ' +\n",
              "            '<a target=\"_blank\" href=https://colab.research.google.com/notebooks/data_table.ipynb>data table notebook</a>'\n",
              "            + ' to learn more about interactive tables.';\n",
              "          element.innerHTML = '';\n",
              "          dataTable['output_type'] = 'display_data';\n",
              "          await google.colab.output.renderOutput(dataTable, element);\n",
              "          const docLink = document.createElement('div');\n",
              "          docLink.innerHTML = docLinkHtml;\n",
              "          element.appendChild(docLink);\n",
              "        }\n",
              "      </script>\n",
              "    </div>\n",
              "  </div>\n"
            ],
            "text/plain": [
              "   Topic  Count                             Name  \\\n",
              "0     -1   2650  -1_ηλικίας_τουλάχιστον_έτος_έτη   \n",
              "\n",
              "                                      Representation  \\\n",
              "0  [ηλικίας, τουλάχιστον, έτος, έτη, μόνο, άλλη, ...   \n",
              "\n",
              "                                 Representative_Docs  \n",
              "0  [Ο ενδιαφερόμενος πρέπει να είναι κάτοχος πτυχ...  "
            ]
          },
          "execution_count": 60,
          "metadata": {},
          "output_type": "execute_result"
        }
      ],
      "source": [
        "reduce_outliers(docs, full_topic_model, full_topics, 0.6)\n",
        "freq = full_topic_model.get_topic_info(); freq.head(1)"
      ]
    },
    {
      "cell_type": "markdown",
      "metadata": {
        "id": "JVCNL_mrQq8O"
      },
      "source": [
        "We reduced a lot the outliers to 10%, which would be good for our semantic analysis.  Finally have a look if we should merge some topics"
      ]
    },
    {
      "cell_type": "code",
      "execution_count": 64,
      "metadata": {
        "colab": {
          "base_uri": "https://localhost:8080/",
          "height": 1000
        },
        "id": "9wGvCS7XQlaH",
        "outputId": "90c9dcc2-e869-4a38-8c05-51e22b1ba5a1"
      },
      "outputs": [
        {
          "data": {
            "text/html": [
              "<html>\n",
              "<head><meta charset=\"utf-8\" /></head>\n",
              "<body>\n",
              "    <div>            <script src=\"https://cdnjs.cloudflare.com/ajax/libs/mathjax/2.7.5/MathJax.js?config=TeX-AMS-MML_SVG\"></script><script type=\"text/javascript\">if (window.MathJax && window.MathJax.Hub && window.MathJax.Hub.Config) {window.MathJax.Hub.Config({SVG: {font: \"STIX-Web\"}});}</script>                <script type=\"text/javascript\">window.PlotlyConfig = {MathJaxConfig: 'local'};</script>\n",
              "        <script src=\"https://cdn.plot.ly/plotly-2.18.2.min.js\"></script>                <div id=\"e56198d0-6946-4fc5-a7fa-4f8c271dc3ce\" class=\"plotly-graph-div\" style=\"height:1700px; width:1000px;\"></div>            <script type=\"text/javascript\">                                    window.PLOTLYENV=window.PLOTLYENV || {};                                    if (document.getElementById(\"e56198d0-6946-4fc5-a7fa-4f8c271dc3ce\")) {                    Plotly.newPlot(                        \"e56198d0-6946-4fc5-a7fa-4f8c271dc3ce\",                        [{\"hoverinfo\":\"text\",\"marker\":{\"color\":\"rgb(61,153,112)\"},\"mode\":\"lines\",\"x\":[0.0,0.10992989038535583,0.10992989038535583,0.0],\"xaxis\":\"x\",\"y\":[-5.0,-5.0,-15.0,-15.0],\"yaxis\":\"y\",\"type\":\"scatter\"},{\"hoverinfo\":\"text\",\"marker\":{\"color\":\"rgb(255,65,54)\"},\"mode\":\"lines\",\"x\":[0.0,0.8493671574000632,0.8493671574000632,0.0],\"xaxis\":\"x\",\"y\":[-25.0,-25.0,-35.0,-35.0],\"yaxis\":\"y\",\"type\":\"scatter\"},{\"hoverinfo\":\"text\",\"marker\":{\"color\":\"rgb(35,205,205)\"},\"mode\":\"lines\",\"x\":[0.0,0.6457160194294379,0.6457160194294379,0.0],\"xaxis\":\"x\",\"y\":[-45.0,-45.0,-55.0,-55.0],\"yaxis\":\"y\",\"type\":\"scatter\"},{\"hoverinfo\":\"text\",\"marker\":{\"color\":\"rgb(0,116,217)\"},\"mode\":\"lines\",\"x\":[0.8493671574000632,1.0058222186180208,1.0058222186180208,0.6457160194294379],\"xaxis\":\"x\",\"y\":[-30.0,-30.0,-50.0,-50.0],\"yaxis\":\"y\",\"type\":\"scatter\"},{\"hoverinfo\":\"text\",\"marker\":{\"color\":\"rgb(133,20,75)\"},\"mode\":\"lines\",\"x\":[0.0,0.7816157881467551,0.7816157881467551,0.0],\"xaxis\":\"x\",\"y\":[-75.0,-75.0,-85.0,-85.0],\"yaxis\":\"y\",\"type\":\"scatter\"},{\"hoverinfo\":\"text\",\"marker\":{\"color\":\"rgb(133,20,75)\"},\"mode\":\"lines\",\"x\":[0.0,0.9595966999407555,0.9595966999407555,0.7816157881467551],\"xaxis\":\"x\",\"y\":[-65.0,-65.0,-80.0,-80.0],\"yaxis\":\"y\",\"type\":\"scatter\"},{\"hoverinfo\":\"text\",\"marker\":{\"color\":\"rgb(133,20,75)\"},\"mode\":\"lines\",\"x\":[0.9595966999407555,0.978391718546483,0.978391718546483,0.0],\"xaxis\":\"x\",\"y\":[-72.5,-72.5,-95.0,-95.0],\"yaxis\":\"y\",\"type\":\"scatter\"},{\"hoverinfo\":\"text\",\"marker\":{\"color\":\"rgb(255,220,0)\"},\"mode\":\"lines\",\"x\":[0.0,0.7389561099154809,0.7389561099154809,0.0],\"xaxis\":\"x\",\"y\":[-105.0,-105.0,-115.0,-115.0],\"yaxis\":\"y\",\"type\":\"scatter\"},{\"hoverinfo\":\"text\",\"marker\":{\"color\":\"rgb(255,220,0)\"},\"mode\":\"lines\",\"x\":[0.7389561099154809,0.9610595534925419,0.9610595534925419,0.0],\"xaxis\":\"x\",\"y\":[-110.0,-110.0,-125.0,-125.0],\"yaxis\":\"y\",\"type\":\"scatter\"},{\"hoverinfo\":\"text\",\"marker\":{\"color\":\"rgb(0,116,217)\"},\"mode\":\"lines\",\"x\":[0.978391718546483,1.1803453993981134,1.1803453993981134,0.9610595534925419],\"xaxis\":\"x\",\"y\":[-83.75,-83.75,-117.5,-117.5],\"yaxis\":\"y\",\"type\":\"scatter\"},{\"hoverinfo\":\"text\",\"marker\":{\"color\":\"rgb(40,35,35)\"},\"mode\":\"lines\",\"x\":[0.0,0.8949406041876259,0.8949406041876259,0.0],\"xaxis\":\"x\",\"y\":[-135.0,-135.0,-145.0,-145.0],\"yaxis\":\"y\",\"type\":\"scatter\"},{\"hoverinfo\":\"text\",\"marker\":{\"color\":\"rgb(61,153,112)\"},\"mode\":\"lines\",\"x\":[0.0,0.9471647215658691,0.9471647215658691,0.0],\"xaxis\":\"x\",\"y\":[-165.0,-165.0,-175.0,-175.0],\"yaxis\":\"y\",\"type\":\"scatter\"},{\"hoverinfo\":\"text\",\"marker\":{\"color\":\"rgb(61,153,112)\"},\"mode\":\"lines\",\"x\":[0.0,0.9797924205823683,0.9797924205823683,0.9471647215658691],\"xaxis\":\"x\",\"y\":[-155.0,-155.0,-170.0,-170.0],\"yaxis\":\"y\",\"type\":\"scatter\"},{\"hoverinfo\":\"text\",\"marker\":{\"color\":\"rgb(255,65,54)\"},\"mode\":\"lines\",\"x\":[0.0,0.8058441702400083,0.8058441702400083,0.0],\"xaxis\":\"x\",\"y\":[-185.0,-185.0,-195.0,-195.0],\"yaxis\":\"y\",\"type\":\"scatter\"},{\"hoverinfo\":\"text\",\"marker\":{\"color\":\"rgb(255,65,54)\"},\"mode\":\"lines\",\"x\":[0.8058441702400083,0.9612478673010727,0.9612478673010727,0.0],\"xaxis\":\"x\",\"y\":[-190.0,-190.0,-205.0,-205.0],\"yaxis\":\"y\",\"type\":\"scatter\"},{\"hoverinfo\":\"text\",\"marker\":{\"color\":\"rgb(0,116,217)\"},\"mode\":\"lines\",\"x\":[0.9797924205823683,1.0391099648437268,1.0391099648437268,0.9612478673010727],\"xaxis\":\"x\",\"y\":[-162.5,-162.5,-197.5,-197.5],\"yaxis\":\"y\",\"type\":\"scatter\"},{\"hoverinfo\":\"text\",\"marker\":{\"color\":\"rgb(0,116,217)\"},\"mode\":\"lines\",\"x\":[0.8949406041876259,1.0425409000827575,1.0425409000827575,1.0391099648437268],\"xaxis\":\"x\",\"y\":[-140.0,-140.0,-180.0,-180.0],\"yaxis\":\"y\",\"type\":\"scatter\"},{\"hoverinfo\":\"text\",\"marker\":{\"color\":\"rgb(35,205,205)\"},\"mode\":\"lines\",\"x\":[0.0,0.7888783718938752,0.7888783718938752,0.0],\"xaxis\":\"x\",\"y\":[-215.0,-215.0,-225.0,-225.0],\"yaxis\":\"y\",\"type\":\"scatter\"},{\"hoverinfo\":\"text\",\"marker\":{\"color\":\"rgb(0,116,217)\"},\"mode\":\"lines\",\"x\":[1.0425409000827575,1.1316757694364659,1.1316757694364659,0.7888783718938752],\"xaxis\":\"x\",\"y\":[-160.0,-160.0,-220.0,-220.0],\"yaxis\":\"y\",\"type\":\"scatter\"},{\"hoverinfo\":\"text\",\"marker\":{\"color\":\"rgb(0,116,217)\"},\"mode\":\"lines\",\"x\":[1.1803453993981134,1.2281901251773488,1.2281901251773488,1.1316757694364659],\"xaxis\":\"x\",\"y\":[-100.625,-100.625,-190.0,-190.0],\"yaxis\":\"y\",\"type\":\"scatter\"},{\"hoverinfo\":\"text\",\"marker\":{\"color\":\"rgb(61,153,112)\"},\"mode\":\"lines\",\"x\":[0.0,0.9162529481968181,0.9162529481968181,0.0],\"xaxis\":\"x\",\"y\":[-235.0,-235.0,-245.0,-245.0],\"yaxis\":\"y\",\"type\":\"scatter\"},{\"hoverinfo\":\"text\",\"marker\":{\"color\":\"rgb(255,65,54)\"},\"mode\":\"lines\",\"x\":[0.0,0.9737293776283124,0.9737293776283124,0.0],\"xaxis\":\"x\",\"y\":[-265.0,-265.0,-275.0,-275.0],\"yaxis\":\"y\",\"type\":\"scatter\"},{\"hoverinfo\":\"text\",\"marker\":{\"color\":\"rgb(255,65,54)\"},\"mode\":\"lines\",\"x\":[0.0,0.9800985802532711,0.9800985802532711,0.9737293776283124],\"xaxis\":\"x\",\"y\":[-255.0,-255.0,-270.0,-270.0],\"yaxis\":\"y\",\"type\":\"scatter\"},{\"hoverinfo\":\"text\",\"marker\":{\"color\":\"rgb(35,205,205)\"},\"mode\":\"lines\",\"x\":[0.0,0.9404654576757289,0.9404654576757289,0.0],\"xaxis\":\"x\",\"y\":[-295.0,-295.0,-305.0,-305.0],\"yaxis\":\"y\",\"type\":\"scatter\"},{\"hoverinfo\":\"text\",\"marker\":{\"color\":\"rgb(35,205,205)\"},\"mode\":\"lines\",\"x\":[0.9404654576757289,0.9587614115622631,0.9587614115622631,0.0],\"xaxis\":\"x\",\"y\":[-300.0,-300.0,-315.0,-315.0],\"yaxis\":\"y\",\"type\":\"scatter\"},{\"hoverinfo\":\"text\",\"marker\":{\"color\":\"rgb(35,205,205)\"},\"mode\":\"lines\",\"x\":[0.0,0.9620676187512491,0.9620676187512491,0.9587614115622631],\"xaxis\":\"x\",\"y\":[-285.0,-285.0,-307.5,-307.5],\"yaxis\":\"y\",\"type\":\"scatter\"},{\"hoverinfo\":\"text\",\"marker\":{\"color\":\"rgb(0,116,217)\"},\"mode\":\"lines\",\"x\":[0.9800985802532711,1.0000807273774603,1.0000807273774603,0.9620676187512491],\"xaxis\":\"x\",\"y\":[-262.5,-262.5,-296.25,-296.25],\"yaxis\":\"y\",\"type\":\"scatter\"},{\"hoverinfo\":\"text\",\"marker\":{\"color\":\"rgb(133,20,75)\"},\"mode\":\"lines\",\"x\":[0.0,0.9598352031443043,0.9598352031443043,0.0],\"xaxis\":\"x\",\"y\":[-325.0,-325.0,-335.0,-335.0],\"yaxis\":\"y\",\"type\":\"scatter\"},{\"hoverinfo\":\"text\",\"marker\":{\"color\":\"rgb(0,116,217)\"},\"mode\":\"lines\",\"x\":[1.0000807273774603,1.0110038397431793,1.0110038397431793,0.9598352031443043],\"xaxis\":\"x\",\"y\":[-279.375,-279.375,-330.0,-330.0],\"yaxis\":\"y\",\"type\":\"scatter\"},{\"hoverinfo\":\"text\",\"marker\":{\"color\":\"rgb(0,116,217)\"},\"mode\":\"lines\",\"x\":[0.9162529481968181,1.0273287471281458,1.0273287471281458,1.0110038397431793],\"xaxis\":\"x\",\"y\":[-240.0,-240.0,-304.6875,-304.6875],\"yaxis\":\"y\",\"type\":\"scatter\"},{\"hoverinfo\":\"text\",\"marker\":{\"color\":\"rgb(255,220,0)\"},\"mode\":\"lines\",\"x\":[0.0,0.954729601118705,0.954729601118705,0.0],\"xaxis\":\"x\",\"y\":[-345.0,-345.0,-355.0,-355.0],\"yaxis\":\"y\",\"type\":\"scatter\"},{\"hoverinfo\":\"text\",\"marker\":{\"color\":\"rgb(40,35,35)\"},\"mode\":\"lines\",\"x\":[0.0,0.9211430936494531,0.9211430936494531,0.0],\"xaxis\":\"x\",\"y\":[-365.0,-365.0,-375.0,-375.0],\"yaxis\":\"y\",\"type\":\"scatter\"},{\"hoverinfo\":\"text\",\"marker\":{\"color\":\"rgb(40,35,35)\"},\"mode\":\"lines\",\"x\":[0.9211430936494531,0.9727443763830836,0.9727443763830836,0.0],\"xaxis\":\"x\",\"y\":[-370.0,-370.0,-385.0,-385.0],\"yaxis\":\"y\",\"type\":\"scatter\"},{\"hoverinfo\":\"text\",\"marker\":{\"color\":\"rgb(0,116,217)\"},\"mode\":\"lines\",\"x\":[0.954729601118705,1.0088746871313778,1.0088746871313778,0.9727443763830836],\"xaxis\":\"x\",\"y\":[-350.0,-350.0,-377.5,-377.5],\"yaxis\":\"y\",\"type\":\"scatter\"},{\"hoverinfo\":\"text\",\"marker\":{\"color\":\"rgb(61,153,112)\"},\"mode\":\"lines\",\"x\":[0.0,0.9322096345610896,0.9322096345610896,0.0],\"xaxis\":\"x\",\"y\":[-395.0,-395.0,-405.0,-405.0],\"yaxis\":\"y\",\"type\":\"scatter\"},{\"hoverinfo\":\"text\",\"marker\":{\"color\":\"rgb(0,116,217)\"},\"mode\":\"lines\",\"x\":[1.0088746871313778,1.031525884729892,1.031525884729892,0.9322096345610896],\"xaxis\":\"x\",\"y\":[-363.75,-363.75,-400.0,-400.0],\"yaxis\":\"y\",\"type\":\"scatter\"},{\"hoverinfo\":\"text\",\"marker\":{\"color\":\"rgb(0,116,217)\"},\"mode\":\"lines\",\"x\":[1.0273287471281458,1.0879392020204763,1.0879392020204763,1.031525884729892],\"xaxis\":\"x\",\"y\":[-272.34375,-272.34375,-381.875,-381.875],\"yaxis\":\"y\",\"type\":\"scatter\"},{\"hoverinfo\":\"text\",\"marker\":{\"color\":\"rgb(255,65,54)\"},\"mode\":\"lines\",\"x\":[0.0,0.9342639259623237,0.9342639259623237,0.0],\"xaxis\":\"x\",\"y\":[-415.0,-415.0,-425.0,-425.0],\"yaxis\":\"y\",\"type\":\"scatter\"},{\"hoverinfo\":\"text\",\"marker\":{\"color\":\"rgb(35,205,205)\"},\"mode\":\"lines\",\"x\":[0.0,0.927753320764362,0.927753320764362,0.0],\"xaxis\":\"x\",\"y\":[-435.0,-435.0,-445.0,-445.0],\"yaxis\":\"y\",\"type\":\"scatter\"},{\"hoverinfo\":\"text\",\"marker\":{\"color\":\"rgb(0,116,217)\"},\"mode\":\"lines\",\"x\":[0.9342639259623237,1.0146302706953683,1.0146302706953683,0.927753320764362],\"xaxis\":\"x\",\"y\":[-420.0,-420.0,-440.0,-440.0],\"yaxis\":\"y\",\"type\":\"scatter\"},{\"hoverinfo\":\"text\",\"marker\":{\"color\":\"rgb(61,153,112)\"},\"mode\":\"lines\",\"x\":[0.0,0.9573251183091867,0.9573251183091867,0.0],\"xaxis\":\"x\",\"y\":[-455.0,-455.0,-465.0,-465.0],\"yaxis\":\"y\",\"type\":\"scatter\"},{\"hoverinfo\":\"text\",\"marker\":{\"color\":\"rgb(61,153,112)\"},\"mode\":\"lines\",\"x\":[0.9573251183091867,0.9854596444316062,0.9854596444316062,0.0],\"xaxis\":\"x\",\"y\":[-460.0,-460.0,-475.0,-475.0],\"yaxis\":\"y\",\"type\":\"scatter\"},{\"hoverinfo\":\"text\",\"marker\":{\"color\":\"rgb(255,65,54)\"},\"mode\":\"lines\",\"x\":[0.0,0.9532835890489194,0.9532835890489194,0.0],\"xaxis\":\"x\",\"y\":[-485.0,-485.0,-495.0,-495.0],\"yaxis\":\"y\",\"type\":\"scatter\"},{\"hoverinfo\":\"text\",\"marker\":{\"color\":\"rgb(255,65,54)\"},\"mode\":\"lines\",\"x\":[0.0,0.9571796771689252,0.9571796771689252,0.0],\"xaxis\":\"x\",\"y\":[-505.0,-505.0,-515.0,-515.0],\"yaxis\":\"y\",\"type\":\"scatter\"},{\"hoverinfo\":\"text\",\"marker\":{\"color\":\"rgb(255,65,54)\"},\"mode\":\"lines\",\"x\":[0.9532835890489194,0.9961503945162299,0.9961503945162299,0.9571796771689252],\"xaxis\":\"x\",\"y\":[-490.0,-490.0,-510.0,-510.0],\"yaxis\":\"y\",\"type\":\"scatter\"},{\"hoverinfo\":\"text\",\"marker\":{\"color\":\"rgb(35,205,205)\"},\"mode\":\"lines\",\"x\":[0.0,0.9691366383164034,0.9691366383164034,0.0],\"xaxis\":\"x\",\"y\":[-525.0,-525.0,-535.0,-535.0],\"yaxis\":\"y\",\"type\":\"scatter\"},{\"hoverinfo\":\"text\",\"marker\":{\"color\":\"rgb(0,116,217)\"},\"mode\":\"lines\",\"x\":[0.9961503945162299,1.0097140786944445,1.0097140786944445,0.9691366383164034],\"xaxis\":\"x\",\"y\":[-500.0,-500.0,-530.0,-530.0],\"yaxis\":\"y\",\"type\":\"scatter\"},{\"hoverinfo\":\"text\",\"marker\":{\"color\":\"rgb(0,116,217)\"},\"mode\":\"lines\",\"x\":[0.9854596444316062,1.0333623337652578,1.0333623337652578,1.0097140786944445],\"xaxis\":\"x\",\"y\":[-467.5,-467.5,-515.0,-515.0],\"yaxis\":\"y\",\"type\":\"scatter\"},{\"hoverinfo\":\"text\",\"marker\":{\"color\":\"rgb(0,116,217)\"},\"mode\":\"lines\",\"x\":[1.0146302706953683,1.0515609949437805,1.0515609949437805,1.0333623337652578],\"xaxis\":\"x\",\"y\":[-430.0,-430.0,-491.25,-491.25],\"yaxis\":\"y\",\"type\":\"scatter\"},{\"hoverinfo\":\"text\",\"marker\":{\"color\":\"rgb(133,20,75)\"},\"mode\":\"lines\",\"x\":[0.0,0.9259125415478275,0.9259125415478275,0.0],\"xaxis\":\"x\",\"y\":[-545.0,-545.0,-555.0,-555.0],\"yaxis\":\"y\",\"type\":\"scatter\"},{\"hoverinfo\":\"text\",\"marker\":{\"color\":\"rgb(255,220,0)\"},\"mode\":\"lines\",\"x\":[0.0,0.9648885922472815,0.9648885922472815,0.0],\"xaxis\":\"x\",\"y\":[-565.0,-565.0,-575.0,-575.0],\"yaxis\":\"y\",\"type\":\"scatter\"},{\"hoverinfo\":\"text\",\"marker\":{\"color\":\"rgb(255,220,0)\"},\"mode\":\"lines\",\"x\":[0.0,0.9706412021127866,0.9706412021127866,0.0],\"xaxis\":\"x\",\"y\":[-585.0,-585.0,-595.0,-595.0],\"yaxis\":\"y\",\"type\":\"scatter\"},{\"hoverinfo\":\"text\",\"marker\":{\"color\":\"rgb(255,220,0)\"},\"mode\":\"lines\",\"x\":[0.9648885922472815,0.9896599679982258,0.9896599679982258,0.9706412021127866],\"xaxis\":\"x\",\"y\":[-570.0,-570.0,-590.0,-590.0],\"yaxis\":\"y\",\"type\":\"scatter\"},{\"hoverinfo\":\"text\",\"marker\":{\"color\":\"rgb(0,116,217)\"},\"mode\":\"lines\",\"x\":[0.9259125415478275,1.014355444948901,1.014355444948901,0.9896599679982258],\"xaxis\":\"x\",\"y\":[-550.0,-550.0,-580.0,-580.0],\"yaxis\":\"y\",\"type\":\"scatter\"},{\"hoverinfo\":\"text\",\"marker\":{\"color\":\"rgb(40,35,35)\"},\"mode\":\"lines\",\"x\":[0.0,0.9308469388153131,0.9308469388153131,0.0],\"xaxis\":\"x\",\"y\":[-605.0,-605.0,-615.0,-615.0],\"yaxis\":\"y\",\"type\":\"scatter\"},{\"hoverinfo\":\"text\",\"marker\":{\"color\":\"rgb(0,116,217)\"},\"mode\":\"lines\",\"x\":[1.014355444948901,1.0248988615381338,1.0248988615381338,0.9308469388153131],\"xaxis\":\"x\",\"y\":[-565.0,-565.0,-610.0,-610.0],\"yaxis\":\"y\",\"type\":\"scatter\"},{\"hoverinfo\":\"text\",\"marker\":{\"color\":\"rgb(0,116,217)\"},\"mode\":\"lines\",\"x\":[1.0515609949437805,1.0696082703948953,1.0696082703948953,1.0248988615381338],\"xaxis\":\"x\",\"y\":[-460.625,-460.625,-587.5,-587.5],\"yaxis\":\"y\",\"type\":\"scatter\"},{\"hoverinfo\":\"text\",\"marker\":{\"color\":\"rgb(61,153,112)\"},\"mode\":\"lines\",\"x\":[0.0,0.9484535182565206,0.9484535182565206,0.0],\"xaxis\":\"x\",\"y\":[-635.0,-635.0,-645.0,-645.0],\"yaxis\":\"y\",\"type\":\"scatter\"},{\"hoverinfo\":\"text\",\"marker\":{\"color\":\"rgb(61,153,112)\"},\"mode\":\"lines\",\"x\":[0.0,0.9902164567467315,0.9902164567467315,0.9484535182565206],\"xaxis\":\"x\",\"y\":[-625.0,-625.0,-640.0,-640.0],\"yaxis\":\"y\",\"type\":\"scatter\"},{\"hoverinfo\":\"text\",\"marker\":{\"color\":\"rgb(255,65,54)\"},\"mode\":\"lines\",\"x\":[0.0,0.9497486248367781,0.9497486248367781,0.0],\"xaxis\":\"x\",\"y\":[-655.0,-655.0,-665.0,-665.0],\"yaxis\":\"y\",\"type\":\"scatter\"},{\"hoverinfo\":\"text\",\"marker\":{\"color\":\"rgb(35,205,205)\"},\"mode\":\"lines\",\"x\":[0.0,0.9644836775986317,0.9644836775986317,0.0],\"xaxis\":\"x\",\"y\":[-685.0,-685.0,-695.0,-695.0],\"yaxis\":\"y\",\"type\":\"scatter\"},{\"hoverinfo\":\"text\",\"marker\":{\"color\":\"rgb(35,205,205)\"},\"mode\":\"lines\",\"x\":[0.0,0.997190730054748,0.997190730054748,0.9644836775986317],\"xaxis\":\"x\",\"y\":[-675.0,-675.0,-690.0,-690.0],\"yaxis\":\"y\",\"type\":\"scatter\"},{\"hoverinfo\":\"text\",\"marker\":{\"color\":\"rgb(61,153,112)\"},\"mode\":\"lines\",\"x\":[0.0,0.9958281878597381,0.9958281878597381,0.0],\"xaxis\":\"x\",\"y\":[-705.0,-705.0,-715.0,-715.0],\"yaxis\":\"y\",\"type\":\"scatter\"},{\"hoverinfo\":\"text\",\"marker\":{\"color\":\"rgb(0,116,217)\"},\"mode\":\"lines\",\"x\":[0.9958281878597381,1.0013866763580157,1.0013866763580157,0.0],\"xaxis\":\"x\",\"y\":[-710.0,-710.0,-725.0,-725.0],\"yaxis\":\"y\",\"type\":\"scatter\"},{\"hoverinfo\":\"text\",\"marker\":{\"color\":\"rgb(0,116,217)\"},\"mode\":\"lines\",\"x\":[0.997190730054748,1.0181784643813148,1.0181784643813148,1.0013866763580157],\"xaxis\":\"x\",\"y\":[-682.5,-682.5,-717.5,-717.5],\"yaxis\":\"y\",\"type\":\"scatter\"},{\"hoverinfo\":\"text\",\"marker\":{\"color\":\"rgb(0,116,217)\"},\"mode\":\"lines\",\"x\":[0.9497486248367781,1.0308082448726972,1.0308082448726972,1.0181784643813148],\"xaxis\":\"x\",\"y\":[-660.0,-660.0,-700.0,-700.0],\"yaxis\":\"y\",\"type\":\"scatter\"},{\"hoverinfo\":\"text\",\"marker\":{\"color\":\"rgb(0,116,217)\"},\"mode\":\"lines\",\"x\":[0.9902164567467315,1.0373647759361269,1.0373647759361269,1.0308082448726972],\"xaxis\":\"x\",\"y\":[-632.5,-632.5,-680.0,-680.0],\"yaxis\":\"y\",\"type\":\"scatter\"},{\"hoverinfo\":\"text\",\"marker\":{\"color\":\"rgb(0,116,217)\"},\"mode\":\"lines\",\"x\":[1.0696082703948953,1.0787316641199063,1.0787316641199063,1.0373647759361269],\"xaxis\":\"x\",\"y\":[-524.0625,-524.0625,-656.25,-656.25],\"yaxis\":\"y\",\"type\":\"scatter\"},{\"hoverinfo\":\"text\",\"marker\":{\"color\":\"rgb(0,116,217)\"},\"mode\":\"lines\",\"x\":[1.0879392020204763,1.1229134782747963,1.1229134782747963,1.0787316641199063],\"xaxis\":\"x\",\"y\":[-327.109375,-327.109375,-590.15625,-590.15625],\"yaxis\":\"y\",\"type\":\"scatter\"},{\"hoverinfo\":\"text\",\"marker\":{\"color\":\"rgb(255,65,54)\"},\"mode\":\"lines\",\"x\":[0.0,0.8879835486116541,0.8879835486116541,0.0],\"xaxis\":\"x\",\"y\":[-745.0,-745.0,-755.0,-755.0],\"yaxis\":\"y\",\"type\":\"scatter\"},{\"hoverinfo\":\"text\",\"marker\":{\"color\":\"rgb(255,65,54)\"},\"mode\":\"lines\",\"x\":[0.8879835486116541,0.9401028947192892,0.9401028947192892,0.0],\"xaxis\":\"x\",\"y\":[-750.0,-750.0,-765.0,-765.0],\"yaxis\":\"y\",\"type\":\"scatter\"},{\"hoverinfo\":\"text\",\"marker\":{\"color\":\"rgb(255,65,54)\"},\"mode\":\"lines\",\"x\":[0.9401028947192892,0.9713791064134062,0.9713791064134062,0.0],\"xaxis\":\"x\",\"y\":[-757.5,-757.5,-775.0,-775.0],\"yaxis\":\"y\",\"type\":\"scatter\"},{\"hoverinfo\":\"text\",\"marker\":{\"color\":\"rgb(255,65,54)\"},\"mode\":\"lines\",\"x\":[0.0,0.9869200672603364,0.9869200672603364,0.9713791064134062],\"xaxis\":\"x\",\"y\":[-735.0,-735.0,-766.25,-766.25],\"yaxis\":\"y\",\"type\":\"scatter\"},{\"hoverinfo\":\"text\",\"marker\":{\"color\":\"rgb(35,205,205)\"},\"mode\":\"lines\",\"x\":[0.0,0.9307690452183058,0.9307690452183058,0.0],\"xaxis\":\"x\",\"y\":[-785.0,-785.0,-795.0,-795.0],\"yaxis\":\"y\",\"type\":\"scatter\"},{\"hoverinfo\":\"text\",\"marker\":{\"color\":\"rgb(0,116,217)\"},\"mode\":\"lines\",\"x\":[0.9869200672603364,1.0428962377712612,1.0428962377712612,0.9307690452183058],\"xaxis\":\"x\",\"y\":[-750.625,-750.625,-790.0,-790.0],\"yaxis\":\"y\",\"type\":\"scatter\"},{\"hoverinfo\":\"text\",\"marker\":{\"color\":\"rgb(0,116,217)\"},\"mode\":\"lines\",\"x\":[1.1229134782747963,1.1426425659413781,1.1426425659413781,1.0428962377712612],\"xaxis\":\"x\",\"y\":[-458.6328125,-458.6328125,-770.3125,-770.3125],\"yaxis\":\"y\",\"type\":\"scatter\"},{\"hoverinfo\":\"text\",\"marker\":{\"color\":\"rgb(133,20,75)\"},\"mode\":\"lines\",\"x\":[0.0,0.8668529260956279,0.8668529260956279,0.0],\"xaxis\":\"x\",\"y\":[-805.0,-805.0,-815.0,-815.0],\"yaxis\":\"y\",\"type\":\"scatter\"},{\"hoverinfo\":\"text\",\"marker\":{\"color\":\"rgb(255,220,0)\"},\"mode\":\"lines\",\"x\":[0.0,0.8439787316248938,0.8439787316248938,0.0],\"xaxis\":\"x\",\"y\":[-825.0,-825.0,-835.0,-835.0],\"yaxis\":\"y\",\"type\":\"scatter\"},{\"hoverinfo\":\"text\",\"marker\":{\"color\":\"rgb(255,220,0)\"},\"mode\":\"lines\",\"x\":[0.8439787316248938,0.8964821928523083,0.8964821928523083,0.0],\"xaxis\":\"x\",\"y\":[-830.0,-830.0,-845.0,-845.0],\"yaxis\":\"y\",\"type\":\"scatter\"},{\"hoverinfo\":\"text\",\"marker\":{\"color\":\"rgb(255,220,0)\"},\"mode\":\"lines\",\"x\":[0.8964821928523083,0.9792210745656666,0.9792210745656666,0.0],\"xaxis\":\"x\",\"y\":[-837.5,-837.5,-855.0,-855.0],\"yaxis\":\"y\",\"type\":\"scatter\"},{\"hoverinfo\":\"text\",\"marker\":{\"color\":\"rgb(0,116,217)\"},\"mode\":\"lines\",\"x\":[0.8668529260956279,1.0631585888896622,1.0631585888896622,0.9792210745656666],\"xaxis\":\"x\",\"y\":[-810.0,-810.0,-846.25,-846.25],\"yaxis\":\"y\",\"type\":\"scatter\"},{\"hoverinfo\":\"text\",\"marker\":{\"color\":\"rgb(0,116,217)\"},\"mode\":\"lines\",\"x\":[1.1426425659413781,1.2220781191640173,1.2220781191640173,1.0631585888896622],\"xaxis\":\"x\",\"y\":[-614.47265625,-614.47265625,-828.125,-828.125],\"yaxis\":\"y\",\"type\":\"scatter\"},{\"hoverinfo\":\"text\",\"marker\":{\"color\":\"rgb(0,116,217)\"},\"mode\":\"lines\",\"x\":[1.2281901251773488,1.2758513622801886,1.2758513622801886,1.2220781191640173],\"xaxis\":\"x\",\"y\":[-145.3125,-145.3125,-721.298828125,-721.298828125],\"yaxis\":\"y\",\"type\":\"scatter\"},{\"hoverinfo\":\"text\",\"marker\":{\"color\":\"rgb(40,35,35)\"},\"mode\":\"lines\",\"x\":[0.0,0.8913564297113691,0.8913564297113691,0.0],\"xaxis\":\"x\",\"y\":[-865.0,-865.0,-875.0,-875.0],\"yaxis\":\"y\",\"type\":\"scatter\"},{\"hoverinfo\":\"text\",\"marker\":{\"color\":\"rgb(61,153,112)\"},\"mode\":\"lines\",\"x\":[0.0,0.8099280732402676,0.8099280732402676,0.0],\"xaxis\":\"x\",\"y\":[-895.0,-895.0,-905.0,-905.0],\"yaxis\":\"y\",\"type\":\"scatter\"},{\"hoverinfo\":\"text\",\"marker\":{\"color\":\"rgb(61,153,112)\"},\"mode\":\"lines\",\"x\":[0.0,0.9245905986359316,0.9245905986359316,0.8099280732402676],\"xaxis\":\"x\",\"y\":[-885.0,-885.0,-900.0,-900.0],\"yaxis\":\"y\",\"type\":\"scatter\"},{\"hoverinfo\":\"text\",\"marker\":{\"color\":\"rgb(255,65,54)\"},\"mode\":\"lines\",\"x\":[0.0,0.9238686425735412,0.9238686425735412,0.0],\"xaxis\":\"x\",\"y\":[-915.0,-915.0,-925.0,-925.0],\"yaxis\":\"y\",\"type\":\"scatter\"},{\"hoverinfo\":\"text\",\"marker\":{\"color\":\"rgb(255,65,54)\"},\"mode\":\"lines\",\"x\":[0.9238686425735412,0.9618570523607611,0.9618570523607611,0.0],\"xaxis\":\"x\",\"y\":[-920.0,-920.0,-935.0,-935.0],\"yaxis\":\"y\",\"type\":\"scatter\"},{\"hoverinfo\":\"text\",\"marker\":{\"color\":\"rgb(0,116,217)\"},\"mode\":\"lines\",\"x\":[0.9245905986359316,1.0128089806771303,1.0128089806771303,0.9618570523607611],\"xaxis\":\"x\",\"y\":[-892.5,-892.5,-927.5,-927.5],\"yaxis\":\"y\",\"type\":\"scatter\"},{\"hoverinfo\":\"text\",\"marker\":{\"color\":\"rgb(0,116,217)\"},\"mode\":\"lines\",\"x\":[0.8913564297113691,1.0478799049653296,1.0478799049653296,1.0128089806771303],\"xaxis\":\"x\",\"y\":[-870.0,-870.0,-910.0,-910.0],\"yaxis\":\"y\",\"type\":\"scatter\"},{\"hoverinfo\":\"text\",\"marker\":{\"color\":\"rgb(35,205,205)\"},\"mode\":\"lines\",\"x\":[0.0,0.6438510517072531,0.6438510517072531,0.0],\"xaxis\":\"x\",\"y\":[-945.0,-945.0,-955.0,-955.0],\"yaxis\":\"y\",\"type\":\"scatter\"},{\"hoverinfo\":\"text\",\"marker\":{\"color\":\"rgb(0,116,217)\"},\"mode\":\"lines\",\"x\":[1.0478799049653296,1.1837515320319856,1.1837515320319856,0.6438510517072531],\"xaxis\":\"x\",\"y\":[-890.0,-890.0,-950.0,-950.0],\"yaxis\":\"y\",\"type\":\"scatter\"},{\"hoverinfo\":\"text\",\"marker\":{\"color\":\"rgb(61,153,112)\"},\"mode\":\"lines\",\"x\":[0.0,0.5738164440517642,0.5738164440517642,0.0],\"xaxis\":\"x\",\"y\":[-965.0,-965.0,-975.0,-975.0],\"yaxis\":\"y\",\"type\":\"scatter\"},{\"hoverinfo\":\"text\",\"marker\":{\"color\":\"rgb(0,116,217)\"},\"mode\":\"lines\",\"x\":[1.1837515320319856,1.2728005105576397,1.2728005105576397,0.5738164440517642],\"xaxis\":\"x\",\"y\":[-920.0,-920.0,-970.0,-970.0],\"yaxis\":\"y\",\"type\":\"scatter\"},{\"hoverinfo\":\"text\",\"marker\":{\"color\":\"rgb(0,116,217)\"},\"mode\":\"lines\",\"x\":[1.2758513622801886,1.3014591955204635,1.3014591955204635,1.2728005105576397],\"xaxis\":\"x\",\"y\":[-433.3056640625,-433.3056640625,-945.0,-945.0],\"yaxis\":\"y\",\"type\":\"scatter\"},{\"hoverinfo\":\"text\",\"marker\":{\"color\":\"rgb(0,116,217)\"},\"mode\":\"lines\",\"x\":[1.0058222186180208,1.3219704874529348,1.3219704874529348,1.3014591955204635],\"xaxis\":\"x\",\"y\":[-40.0,-40.0,-689.15283203125,-689.15283203125],\"yaxis\":\"y\",\"type\":\"scatter\"},{\"hoverinfo\":\"text\",\"marker\":{\"color\":\"rgb(255,65,54)\"},\"mode\":\"lines\",\"x\":[0.0,0.25730868576104127,0.25730868576104127,0.0],\"xaxis\":\"x\",\"y\":[-985.0,-985.0,-995.0,-995.0],\"yaxis\":\"y\",\"type\":\"scatter\"},{\"hoverinfo\":\"text\",\"marker\":{\"color\":\"rgb(0,116,217)\"},\"mode\":\"lines\",\"x\":[1.3219704874529348,1.3849468775144096,1.3849468775144096,0.25730868576104127],\"xaxis\":\"x\",\"y\":[-364.576416015625,-364.576416015625,-990.0,-990.0],\"yaxis\":\"y\",\"type\":\"scatter\"},{\"hoverinfo\":\"text\",\"marker\":{\"color\":\"rgb(0,116,217)\"},\"mode\":\"lines\",\"x\":[0.10992989038535583,1.410246195423279,1.410246195423279,1.3849468775144096],\"xaxis\":\"x\",\"y\":[-10.0,-10.0,-677.2882080078125,-677.2882080078125],\"yaxis\":\"y\",\"type\":\"scatter\"}],                        {\"autosize\":false,\"height\":1700,\"hovermode\":\"closest\",\"showlegend\":false,\"width\":1000,\"xaxis\":{\"mirror\":\"allticks\",\"rangemode\":\"tozero\",\"showgrid\":false,\"showline\":true,\"showticklabels\":true,\"ticks\":\"outside\",\"type\":\"linear\",\"zeroline\":false},\"yaxis\":{\"mirror\":\"allticks\",\"rangemode\":\"tozero\",\"showgrid\":false,\"showline\":true,\"showticklabels\":true,\"tickmode\":\"array\",\"ticks\":\"outside\",\"ticktext\":[\"7_\\u03b4\\u03b9\\u03ba\\u03b1\\u03b9\\u03bf\\u03bb\\u03bf\\u03b3\\u03b7\\u03c4\\u03b9\\u03ba\\u03ce\\u03bd \\u03ad\\u03bb\\u03b5\\u03b3\\u03c7\\u03bf\\u03c2 \\u03b4...\",\"45_\\u03ad\\u03bb\\u03b5\\u03b3\\u03c7\\u03bf\\u03c2 \\u03b4\\u03b9\\u03ba\\u03b1\\u03b9\\u03bf\\u03bb\\u03bf\\u03b3\\u03b7\\u03c4\\u03b9\\u03ba\\u03ce\\u03bd_...\",\"44_\\u03b4\\u03b9\\u03b1\\u03bc\\u03bf\\u03bd\\u03ae\\u03c2_\\u03b5\\u03af\\u03bd\\u03b1\\u03b9 \\u03c0\\u03bf\\u03bb\\u03af\\u03c4\\u03b7\\u03c2 \\u03b5...\",\"35_\\u03c0\\u03bf\\u03bb\\u03af\\u03c4\\u03b5\\u03c2 \\u03ad\\u03bd\\u03c9\\u03c3\\u03b7\\u03c2_\\u03b5\\u03bb\\u03bb\\u03ac\\u03b4\\u03b1_\\u03b4\\u03b9...\",\"37_\\u03b5\\u03bb\\u03bb\\u03b7\\u03bd\\u03b9\\u03ba\\u03ae\\u03c2 \\u03b9\\u03b8\\u03b1\\u03b3\\u03ad\\u03bd\\u03b5\\u03b9\\u03b1\\u03c2_\\u03b9\\u03b8\\u03b1...\",\"354_\\u03bf\\u03bc\\u03bf\\u03b3\\u03b5\\u03bd\\u03b5\\u03af\\u03c2_\\u03b9\\u03b8\\u03b1\\u03b3\\u03ad\\u03bd\\u03b5\\u03b9\\u03b1_\\u03ba\\u03c1\\u03b1...\",\"444_\\u03b5\\u03bb\\u03bb\\u03b7\\u03bd\\u03b9\\u03ba\\u03bf\\u03cd \\u03b4\\u03b7\\u03bc\\u03bf\\u03c3\\u03af\\u03bf\\u03c5_\\u03b5\\u03bb\\u03bb\\u03b7...\",\"509_\\u03b5\\u03bb\\u03bb\\u03b7\\u03bd\\u03b9\\u03ba\\u03ae\\u03c2_\\u03b5\\u03bb\\u03bb\\u03b7\\u03bd\\u03b9\\u03ba\\u03ae\\u03c2 \\u03b1\\u03c3\\u03c4...\",\"22_\\u03b5\\u03bb\\u03bb\\u03b7\\u03bd\\u03b9\\u03ba\\u03ae\\u03c2 \\u03b1\\u03c3\\u03c4\\u03c5\\u03bd\\u03bf\\u03bc\\u03af\\u03b1\\u03c2_\\u03b1\\u03c3\\u03c4...\",\"20_\\u03b5\\u03b9\\u03b4\\u03b9\\u03ba\\u03ce\\u03bd \\u03c6\\u03c1\\u03bf\\u03c5\\u03c1\\u03ce\\u03bd_\\u03b1\\u03c3\\u03c4\\u03c5\\u03bd\\u03bf\\u03bc\\u03b9...\",\"323_\\u03ad\\u03bb\\u03b5\\u03b3\\u03c7\\u03bf\\u03c2 \\u03b1\\u03af\\u03c4\\u03b7\\u03c3\\u03b7\\u03c2 \\u03b4\\u03b9\\u03ba\\u03b1\\u03b9\\u03bf\\u03bb...\",\"200_\\u03ad\\u03bb\\u03b5\\u03b3\\u03c7\\u03bf\\u03c2 \\u03b1\\u03af\\u03c4\\u03b7\\u03c3\\u03b7\\u03c2_\\u03b1\\u03af\\u03c4\\u03b7\\u03c3\\u03b7\\u03c2...\",\"81_\\u03c0\\u03bb\\u03b7\\u03c1\\u03cc\\u03c4\\u03b7\\u03c4\\u03b1\\u03c2 \\u03b1\\u03af\\u03c4\\u03b7\\u03c3\\u03b7\\u03c2 \\u03ad\\u03bb\\u03b5\\u03b3\\u03c7...\",\"38_\\u03b4\\u03b9\\u03ba\\u03b1\\u03b9\\u03bf\\u03bb\\u03bf\\u03b3\\u03b7\\u03c4\\u03b9\\u03ba\\u03ce\\u03bd \\u03c5\\u03c0\\u03bf\\u03b2\\u03bf\\u03bb\\u03ae ...\",\"95_\\u03b1\\u03af\\u03c4\\u03b7\\u03c3\\u03b7\\u03c2 \\u03b4\\u03b9\\u03ba\\u03b1\\u03b9\\u03bf\\u03bb\\u03bf\\u03b3\\u03b7\\u03c4\\u03b9\\u03ba\\u03ce\\u03bd ...\",\"41_\\u03b1\\u03af\\u03c4\\u03b7\\u03c3\\u03b7\\u03c2 \\u03c0\\u03c1\\u03c9\\u03c4\\u03bf\\u03ba\\u03cc\\u03bb\\u03bb\\u03b7\\u03c3\\u03b7 \\u03b1\\u03af\\u03c4...\",\"43_\\u03b1\\u03af\\u03c4\\u03b7\\u03c3\\u03b7\\u03c2 \\u03c5\\u03c0\\u03bf\\u03b2\\u03bf\\u03bb\\u03ae \\u03b1\\u03af\\u03c4\\u03b7\\u03c3\\u03b7\\u03c2_...\",\"59_\\u03c0\\u03b1\\u03c1\\u03b1\\u03bb\\u03b1\\u03b2\\u03ae \\u03b1\\u03af\\u03c4\\u03b7\\u03c3\\u03b7\\u03c2 \\u03c0\\u03b1\\u03c1\\u03b1\\u03bb\\u03b1\\u03b2...\",\"32_\\u03b7\\u03bb\\u03b5\\u03ba\\u03c4\\u03c1\\u03bf\\u03bd\\u03b9\\u03ba\\u03ae \\u03c0\\u03b1\\u03c1\\u03b1\\u03bb\\u03b1\\u03b2\\u03ae \\u03b1\\u03af\\u03c4...\",\"25_\\u03b4\\u03b9\\u03ba\\u03b1\\u03b9\\u03bf\\u03bb\\u03bf\\u03b3\\u03b7\\u03c4\\u03b9\\u03ba\\u03ce\\u03bd \\u03b7\\u03bb\\u03b5\\u03ba\\u03c4\\u03c1\\u03bf\\u03bd...\",\"14_\\u03c3\\u03b1\\u03c2_\\u03bc\\u03c0\\u03bf\\u03c1\\u03b5\\u03af\\u03c4\\u03b5_\\u03bc\\u03c0\\u03b5\\u03af\\u03c4\\u03b5\",\"50_\\u03c8\\u03b7\\u03c6\\u03b9\\u03b1\\u03ba\\u03ae \\u03c5\\u03c0\\u03bf\\u03b2\\u03bf\\u03bb\\u03ae_\\u03c8\\u03b7\\u03c6\\u03b9\\u03b1\\u03ba\\u03ae_...\",\"42_taxisnet \\u03b1\\u03b9\\u03c4\\u03ce\\u03bd \\u03b5\\u03af\\u03bd\\u03b1\\u03b9_\\u03ba\\u03c9\\u03b4...\",\"53_\\u03ac\\u03b4\\u03b5\\u03b9\\u03b1\\u03c2 \\u03b5\\u03bc\\u03c0\\u03bf\\u03c1\\u03af\\u03b1\\u03c2_\\u03b5\\u03bc\\u03c0\\u03bf\\u03c1\\u03af\\u03b1\\u03c2...\",\"31_\\u03c7\\u03bf\\u03c1\\u03ae\\u03b3\\u03b7\\u03c3\\u03b7\\u03c2 \\u03ac\\u03b4\\u03b5\\u03b9\\u03b1\\u03c2_\\u03c7\\u03bf\\u03c1\\u03ae\\u03b3\\u03b7\\u03c3...\",\"13_\\u03b1\\u03b8\\u03bb\\u03b7\\u03c4\\u03b9\\u03ba\\u03ae\\u03c2_\\u03bf\\u03bc\\u03bf\\u03c3\\u03c0\\u03bf\\u03bd\\u03b4\\u03af\\u03b1\\u03c2_\\u03ac\\u03b8...\",\"9_\\u03cc\\u03c0\\u03bb\\u03c9\\u03bd_\\u03c0\\u03c5\\u03c1\\u03bf\\u03b2\\u03cc\\u03bb\\u03c9\\u03bd_\\u03c0\\u03c5\\u03c1\\u03bf\\u03b2\\u03cc\\u03bb\\u03c9\\u03bd...\",\"3_\\u03bc\\u03bd\\u03b7\\u03bc\\u03b5\\u03af\\u03c9\\u03bd_\\u03ba\\u03b9\\u03bd\\u03b7\\u03c4\\u03ce\\u03bd_\\u03ba\\u03b9\\u03bd\\u03b7\\u03c4\\u03ce\\u03bd ...\",\"12_\\u03c0\\u03c1\\u03b9\\u03bd_\\u03bc\\u03ae\\u03bd\\u03b5\\u03c2_\\u03bc\\u03ae\\u03bd\\u03b5\\u03c2 \\u03c0\\u03c1\\u03b9\\u03bd\",\"2_\\u03b6\\u03ce\\u03c9\\u03bd_\\u03c4\\u03c1\\u03bf\\u03c6\\u03af\\u03bc\\u03c9\\u03bd_\\u03b1\\u03b3\\u03c1\\u03bf\\u03c4\\u03b9\\u03ba\\u03ae\\u03c2\",\"0_\\u03c0\\u03bb\\u03bf\\u03af\\u03bf\\u03c5_\\u03bd\\u03b1\\u03c5\\u03c4\\u03b9\\u03ba\\u03bf\\u03cd_\\u03c0\\u03bb\\u03bf\\u03af\\u03bf\",\"1_\\u03ba\\u03c5\\u03ba\\u03bb\\u03bf\\u03c6\\u03bf\\u03c1\\u03af\\u03b1\\u03c2_\\u03bf\\u03c7\\u03ae\\u03bc\\u03b1\\u03c4\\u03bf\\u03c2_\\u03bf\\u03c7\\u03b7\\u03bc...\",\"36_\\u03c4\\u03bf\\u03c5\\u03c1\\u03b9\\u03c3\\u03bc\\u03bf\\u03cd_\\u03c4\\u03bf\\u03c5\\u03c1\\u03b9\\u03c3\\u03c4\\u03b9\\u03ba\\u03bf\\u03cd_\\u03c4\\u03bf...\",\"19_\\u03c0\\u03b5\\u03c1\\u03b9\\u03b2\\u03b1\\u03bb\\u03bb\\u03bf\\u03bd\\u03c4\\u03b9\\u03ba\\u03ce\\u03bd_\\u03c0\\u03b5\\u03c1\\u03b9\\u03b2\\u03b1\\u03bb\\u03bb...\",\"17_\\u03b9\\u03b1\\u03c4\\u03c1\\u03b9\\u03ba\\u03ae_\\u03b9\\u03b1\\u03c4\\u03c1\\u03b9\\u03ba\\u03ae\\u03c2_\\u03b9\\u03b1\\u03c4\\u03c1\\u03bf\\u03cd\",\"16_\\u03b1\\u03bd\\u03b1\\u03c0\\u03b7\\u03c1\\u03af\\u03b1\\u03c2_\\u03c0\\u03bf\\u03c3\\u03bf\\u03c3\\u03c4\\u03cc \\u03b1\\u03bd\\u03b1\\u03c0\\u03b7\\u03c1...\",\"33_\\u03b1\\u03c3\\u03c6\\u03ac\\u03bb\\u03b9\\u03c3\\u03b7\\u03c2_\\u03b1\\u03c3\\u03c6\\u03b1\\u03bb\\u03b9\\u03c3\\u03c4\\u03b9\\u03ba\\u03ce\\u03bd_\\u03b1...\",\"40_\\u03c3\\u03c5\\u03bd\\u03c4\\u03b1\\u03be\\u03b9\\u03bf\\u03b4\\u03cc\\u03c4\\u03b7\\u03c3\\u03b7\\u03c2_\\u03c3\\u03c5\\u03bd\\u03c4\\u03b1\\u03be\\u03b9\\u03bf...\",\"540_\\u03c0\\u03bf\\u03c3\\u03bf\\u03cd_\\u03c4\\u03b1\\u03bc\\u03b5\\u03b9\\u03b1\\u03ba\\u03ae_\\u03c0\\u03bb\\u03ae\\u03c1\\u03c9\\u03c3\\u03b7\\u03c2\",\"30_\\u03b7\\u03bb\\u03b9\\u03ba\\u03af\\u03b1\\u03c2_\\u03ad\\u03c4\\u03bf\\u03c2 \\u03b7\\u03bb\\u03b9\\u03ba\\u03af\\u03b1\\u03c2_\\u03ad\\u03c7\\u03b5...\",\"34_\\u03c4\\u03ad\\u03ba\\u03bd\\u03c9\\u03bd_\\u03c4\\u03ad\\u03ba\\u03bd\\u03bf\\u03c5_\\u03b1\\u03bd\\u03ae\\u03bb\\u03b9\\u03ba\\u03c9\\u03bd \\u03c4...\",\"47_\\u03c0\\u03c1\\u03bf\\u03b5\\u03b4\\u03c1\\u03b9\\u03ba\\u03bf\\u03cd_\\u03c0\\u03c1\\u03bf\\u03b5\\u03b4\\u03c1\\u03b9\\u03ba\\u03bf\\u03cd \\u03b4\\u03b9...\",\"28_\\u03b5\\u03b8\\u03bd\\u03b9\\u03ba\\u03cc \\u03c4\\u03c5\\u03c0\\u03bf\\u03b3\\u03c1\\u03b1\\u03c6\\u03b5\\u03af\\u03bf_\\u03c4\\u03c5\\u03c0\\u03bf\\u03b3...\",\"24_\\u03c5\\u03c0\\u03bf\\u03c5\\u03c1\\u03b3\\u03b9\\u03ba\\u03ae\\u03c2_\\u03c5\\u03c0\\u03bf\\u03c5\\u03c1\\u03b3\\u03b9\\u03ba\\u03ae\\u03c2 \\u03b1\\u03c0...\",\"60_\\u03c0\\u03c1\\u03bf\\u03cb\\u03c0\\u03bf\\u03bb\\u03bf\\u03b3\\u03b9\\u03c3\\u03bc\\u03bf\\u03cd_\\u03c3\\u03c7\\u03b5\\u03b4\\u03af\\u03bf\\u03c5 \\u03c0...\",\"207_\\u03bf\\u03b9\\u03ba\\u03bf\\u03bd\\u03bf\\u03bc\\u03b9\\u03ba\\u03ae\\u03c2 \\u03b5\\u03c0\\u03b9\\u03c4\\u03c1\\u03bf\\u03c0\\u03ae\\u03c2_\\u03bf...\",\"21_\\u03b1\\u03ba\\u03b9\\u03bd\\u03ae\\u03c4\\u03bf\\u03c5_\\u03b1\\u03ba\\u03b9\\u03bd\\u03ae\\u03c4\\u03c9\\u03bd_\\u03b1\\u03bd\\u03b1\\u03b3\\u03ba\\u03b1...\",\"103_\\u03b4\\u03b7\\u03bc\\u03bf\\u03c4\\u03b9\\u03ba\\u03bf\\u03cd \\u03c3\\u03c5\\u03bc\\u03b2\\u03bf\\u03c5\\u03bb\\u03af\\u03bf\\u03c5_\\u03b4\\u03b7...\",\"89_\\u03b4\\u03b9\\u03ba\\u03b1\\u03c3\\u03c4\\u03b9\\u03ba\\u03bf\\u03cd_\\u03b4\\u03b9\\u03ba\\u03b1\\u03c3\\u03c4\\u03b9\\u03ba\\u03ce\\u03bd_\\u03b4\\u03b9...\",\"127_\\u03c0\\u03b1\\u03c1\\u03b1\\u03af\\u03c4\\u03b7\\u03c3\\u03b7\\u03c2_\\u03b1\\u03c0\\u03cc\\u03bb\\u03c5\\u03c3\\u03b7\\u03c2_\\u03b1\\u03af\\u03c4...\",\"473_\\u03b1\\u03c0\\u03cc\\u03c6\\u03b1\\u03c3\\u03b7\\u03c2 \\u03ad\\u03b3\\u03ba\\u03c1\\u03b9\\u03c3\\u03b7\\u03c2_\\u03ad\\u03ba\\u03b4\\u03bf\\u03c3...\",\"10_\\u03b1\\u03c0\\u03cc\\u03c1\\u03c1\\u03b9\\u03c8\\u03b7_\\u03b1\\u03c0\\u03cc\\u03c1\\u03c1\\u03b9\\u03c8\\u03b7\\u03c2_\\u03b1\\u03c0\\u03cc\\u03c1\\u03c1...\",\"154_\\u03b1\\u03af\\u03c4\\u03b7\\u03c3\\u03b7\\u03c2 \\u03b4\\u03b9\\u03b1\\u03b2\\u03af\\u03b2\\u03b1\\u03c3\\u03b7 \\u03b1\\u03af\\u03c4\\u03b7\\u03c3...\",\"73_\\u03b4\\u03b9\\u03b5\\u03b8\\u03bd\\u03bf\\u03cd\\u03c2 \\u03c0\\u03c1\\u03bf\\u03c3\\u03c4\\u03b1\\u03c3\\u03af\\u03b1\\u03c2_\\u03b4\\u03b9\\u03b5\\u03b8...\",\"332_\\u03b4\\u03b9\\u03bf\\u03c1\\u03b9\\u03c3\\u03bc\\u03bf\\u03cd \\u03b5\\u03ba\\u03c0\\u03c1\\u03bf\\u03c3\\u03ce\\u03c0\\u03bf\\u03c5_\\u03b4\\u03b9...\",\"527_\\u03b4\\u03b9\\u03bf\\u03b9\\u03ba\\u03b7\\u03c4\\u03b9\\u03ba\\u03cc_\\u03b4\\u03b9\\u03bf\\u03b9\\u03ba\\u03b7\\u03c4\\u03b9\\u03ba\\u03bf\\u03cd_...\",\"51_\\u03b4\\u03b9\\u03b5\\u03c5\\u03b8\\u03c5\\u03bd\\u03c4\\u03ae \\u03c5\\u03c0\\u03bf\\u03b3\\u03c1\\u03b1\\u03c6\\u03ae_\\u03c5\\u03c0\\u03bf\\u03b3\\u03c1...\",\"712_\\u03c6\\u03b1\\u03ba\\u03ad\\u03bb\\u03bf\\u03c5 \\u03b1\\u03c1\\u03bc\\u03cc\\u03b4\\u03b9\\u03bf_\\u03b4\\u03b9\\u03b1\\u03b2\\u03af\\u03b2\\u03b1...\",\"300_\\u03b4\\u03b9\\u03b1\\u03b2\\u03af\\u03b2\\u03b1\\u03c3\\u03b7 \\u03b1\\u03c0\\u03cc\\u03c6\\u03b1\\u03c3\\u03b7\\u03c2 \\u03b1\\u03c1\\u03bc\\u03cc...\",\"495_\\u03b5\\u03b9\\u03c3\\u03ae\\u03b3\\u03b7\\u03c3\\u03b7 \\u03b1\\u03c1\\u03bc\\u03cc\\u03b4\\u03b9\\u03b1\\u03c2 \\u03c5\\u03c0\\u03b7\\u03c1\\u03b5...\",\"117_\\u03b1\\u03af\\u03c4\\u03b7\\u03c3\\u03b7\\u03c2 \\u03b1\\u03c1\\u03bc\\u03cc\\u03b4\\u03b9\\u03bf \\u03c5\\u03c0\\u03ac\\u03bb\\u03bb\\u03b7\\u03bb...\",\"18_\\u03b1\\u03bd\\u03ac\\u03b8\\u03b5\\u03c3\\u03b7 \\u03c5\\u03c0\\u03ac\\u03bb\\u03bb\\u03b7\\u03bb\\u03bf_\\u03b5\\u03c1\\u03b3\\u03b1\\u03c3\\u03af\\u03b1...\",\"78_\\u03ad\\u03bb\\u03b5\\u03b3\\u03c7\\u03bf\\u03c2 \\u03ad\\u03bd\\u03bd\\u03bf\\u03bc\\u03bf\\u03c5 \\u03c3\\u03c5\\u03bc\\u03c6\\u03ad\\u03c1\\u03bf\\u03bd...\",\"58_\\u03bd\\u03bf\\u03bc\\u03b9\\u03bc\\u03bf\\u03c0\\u03bf\\u03b9\\u03b7\\u03c4\\u03b9\\u03ba\\u03ac \\u03ad\\u03b3\\u03b3\\u03c1\\u03b1\\u03c6\\u03b1_\\u03bd...\",\"69_\\u03b1\\u03bd\\u03c4\\u03af\\u03b3\\u03c1\\u03b1\\u03c6\\u03bf \\u03c0\\u03bf\\u03b9\\u03bd\\u03b9\\u03ba\\u03bf\\u03cd_\\u03b1\\u03bd\\u03c4\\u03af\\u03b3...\",\"67_\\u03b1\\u03c0\\u03cc\\u03c6\\u03b1\\u03c3\\u03b7 \\u03ba\\u03cd\\u03c1\\u03c9\\u03c3\\u03b7\\u03c2_\\u03b1\\u03c0\\u03cc\\u03c6\\u03b1\\u03c3\\u03b7 ...\",\"77_\\u03c0\\u03b9\\u03c3\\u03c4\\u03bf\\u03c0\\u03bf\\u03b9\\u03b7\\u03c4\\u03b9\\u03ba\\u03bf\\u03cd \\u03ad\\u03ba\\u03b4\\u03bf\\u03c3\\u03b7_\\u03c0\\u03b9...\",\"26_\\u03c5\\u03c0\\u03bf\\u03b3\\u03c1\\u03b1\\u03c6\\u03b7_\\u03b5\\u03bb\\u03b5\\u03b3\\u03c7\\u03bf\\u03c2_\\u03b5\\u03b9\\u03c3\\u03b1\\u03b3\\u03c9\\u03b3...\",\"27_\\u03b1\\u03c0\\u03bf\\u03b4\\u03b5\\u03b9\\u03ba\\u03c4\\u03b9\\u03ba\\u03bf\\u03cd_\\u03c5\\u03c0\\u03bf\\u03b2\\u03bf\\u03bb\\u03ae\\u03c2 \\u03b3\\u03bd...\",\"54_\\u03b4\\u03b9\\u03b1\\u03b2\\u03b1\\u03c4\\u03b7\\u03c1\\u03af\\u03bf\\u03c5_\\u03b1\\u03bd\\u03c4\\u03af\\u03b3\\u03c1\\u03b1\\u03c6\\u03bf \\u03b4\\u03b9...\",\"46_\\u03b5\\u03be\\u03bf\\u03c5\\u03c3\\u03b9\\u03bf\\u03b4\\u03cc\\u03c4\\u03b7\\u03c3\\u03b7\\u03c2_\\u03b4\\u03b9\\u03bf\\u03b9\\u03ba\\u03b7\\u03c4\\u03b9\\u03ba...\",\"52_\\u03c4\\u03b1\\u03c5\\u03c4\\u03bf\\u03c0\\u03bf\\u03af\\u03b7\\u03c3\\u03b7 \\u03c0\\u03bf\\u03bb\\u03af\\u03c4\\u03b7_\\u03c6\\u03c5\\u03c3\\u03b9\\u03ba...\",\"4_\\u03b4\\u03b9\\u03b1\\u03b4\\u03b9\\u03ba\\u03b1\\u03c3\\u03af\\u03b1\\u03c2 \\u03b5\\u03ba\\u03ba\\u03af\\u03bd\\u03b7\\u03c3\\u03b7_\\u03b5\\u03ba\\u03ba\\u03af...\",\"11_\\u03b5\\u03bb\\u03ad\\u03b3\\u03c7\\u03bf\\u03c5_\\u03b5\\u03c0\\u03b9\\u03c4\\u03cc\\u03c0\\u03b9\\u03bf\\u03c5_\\u03b5\\u03c0\\u03b9\\u03c4\\u03cc\\u03c0...\",\"39_\\u03b5\\u03c0\\u03b9\\u03c4\\u03c1\\u03bf\\u03c0\\u03ae\\u03c2_\\u03c4\\u03c1\\u03b9\\u03bc\\u03b5\\u03bb\\u03bf\\u03cd\\u03c2_\\u03c3\\u03c5\\u03bd\\u03b5...\",\"698_\\u03b5\\u03c0\\u03b9\\u03c4\\u03c1\\u03bf\\u03c0\\u03ae_\\u03b1\\u03be\\u03b9\\u03bf\\u03bb\\u03cc\\u03b3\\u03b7\\u03c3\\u03b7\\u03c2_\\u03b1\\u03be...\",\"15_\\u03ad\\u03ba\\u03b8\\u03b5\\u03c3\\u03b7\\u03c2_\\u03c3\\u03cd\\u03bd\\u03c4\\u03b1\\u03be\\u03b7 \\u03ad\\u03ba\\u03b8\\u03b5\\u03c3\\u03b7\\u03c2_...\",\"5_\\u03c5\\u03c0\\u03bf\\u03c8\\u03b7\\u03c6\\u03af\\u03c9\\u03bd_\\u03c0\\u03b9\\u03bd\\u03ac\\u03ba\\u03c9\\u03bd_\\u03b4\\u03b5\\u03ba\\u03c4\\u03ce\\u03bd\",\"96_\\u03b5\\u03be\\u03b5\\u03c4\\u03ac\\u03c3\\u03b5\\u03b9\\u03c2_\\u03c3\\u03c5\\u03bc\\u03bc\\u03b5\\u03c4\\u03bf\\u03c7\\u03ae\\u03c2 \\u03b5\\u03be\\u03b5...\",\"49_\\u03b5\\u03be\\u03b5\\u03c4\\u03ac\\u03c3\\u03b5\\u03c9\\u03bd_\\u03b4\\u03b9\\u03b5\\u03bd\\u03ad\\u03c1\\u03b3\\u03b5\\u03b9\\u03b1 \\u03b5\\u03be\\u03b5...\",\"468_\\u03c4\\u03af\\u03c4\\u03bb\\u03bf \\u03c3\\u03c0\\u03bf\\u03c5\\u03b4\\u03ce\\u03bd_\\u03c4\\u03af\\u03c4\\u03bb\\u03bf_\\u03b1\\u03ba\\u03b1...\",\"23_\\u03c0\\u03c4\\u03c5\\u03c7\\u03af\\u03bf_\\u03c0\\u03b1\\u03bd\\u03b5\\u03c0\\u03b9\\u03c3\\u03c4\\u03b7\\u03bc\\u03af\\u03bf\\u03c5_\\u03c3\\u03c0\\u03bf...\",\"538_\\u03af\\u03b4\\u03c1\\u03c5\\u03bc\\u03b1 \\u03c4\\u03c1\\u03b9\\u03c4\\u03bf\\u03b2\\u03ac\\u03b8\\u03bc\\u03b9\\u03b1\\u03c2 \\u03b5\\u03ba\\u03c0...\",\"114_\\u03c0\\u03c1\\u03c9\\u03c4\\u03bf\\u03b2\\u03ac\\u03b8\\u03bc\\u03b9\\u03b1\\u03c2_\\u03b4\\u03b5\\u03c5\\u03c4\\u03b5\\u03c1\\u03bf\\u03b2\\u03ac\\u03b8...\",\"171_\\u03b5\\u03ba\\u03c0\\u03b1\\u03b9\\u03b4\\u03b5\\u03c5\\u03c4\\u03b9\\u03ba\\u03ce\\u03bd_\\u03b5\\u03ba\\u03c0\\u03b1\\u03b9\\u03b4\\u03b5\\u03c5\\u03c4...\",\"55_\\u03b9\\u03b4\\u03b9\\u03c9\\u03c4\\u03b9\\u03ba\\u03bf\\u03cd \\u03c3\\u03c7\\u03bf\\u03bb\\u03b5\\u03af\\u03bf\\u03c5_\\u03c3\\u03c7\\u03bf\\u03bb\\u03b5...\",\"411_\\u03b1\\u03bd\\u03b5\\u03c1\\u03b3\\u03af\\u03b1\\u03c2_\\u03b2\\u03b5\\u03b2\\u03b1\\u03af\\u03c9\\u03c3\\u03b7 \\u03c0\\u03c1\\u03bf\\u03cb\\u03c0...\",\"162_\\u03cc\\u03c4\\u03b9 \\u03c0\\u03bb\\u03b7\\u03c1\\u03bf\\u03cd\\u03bd\\u03c4\\u03b1\\u03b9_\\u03c0\\u03bb\\u03b7\\u03c1\\u03bf\\u03cd\\u03bd\\u03c4...\",\"537_\\u03ac\\u03b4\\u03b5\\u03b9\\u03b1\\u03c2 \\u03bb\\u03b5\\u03b9\\u03c4\\u03bf\\u03c5\\u03c1\\u03b3\\u03af\\u03b1\\u03c2_\\u03bb\\u03b5\\u03b9\\u03c4...\",\"390_\\u03ac\\u03b4\\u03b5\\u03b9\\u03b1\\u03c2 \\u03bb\\u03b5\\u03b9\\u03c4\\u03bf\\u03c5\\u03c1\\u03b3\\u03af\\u03b1\\u03c2 \\u03b5\\u03b3\\u03ba\\u03b1...\",\"452_\\u03ac\\u03b4\\u03b5\\u03b9\\u03b1 \\u03bb\\u03b5\\u03b9\\u03c4\\u03bf\\u03c5\\u03c1\\u03b3\\u03af\\u03b1\\u03c2 \\u03b5\\u03b3\\u03ba\\u03b1\\u03c4...\",\"6_\\u03b4\\u03b9\\u03ac\\u03b3\\u03c1\\u03b1\\u03bc\\u03bc\\u03b1_\\u03c4\\u03bf\\u03c0\\u03bf\\u03b3\\u03c1\\u03b1\\u03c6\\u03b9\\u03ba\\u03cc_\\u03c4\\u03bf\\u03c0...\",\"71_\\u03bf\\u03b9\\u03ba\\u03bf\\u03b4\\u03bf\\u03bc\\u03b9\\u03ba\\u03ae\\u03c2_\\u03bf\\u03b9\\u03ba\\u03bf\\u03b4\\u03bf\\u03bc\\u03b9\\u03ba\\u03ae\\u03c2 ...\",\"8_\\u03c0\\u03c5\\u03c1\\u03bf\\u03c0\\u03c1\\u03bf\\u03c3\\u03c4\\u03b1\\u03c3\\u03af\\u03b1\\u03c2_\\u03b5\\u03bd\\u03b5\\u03c1\\u03b3\\u03b7\\u03c4\\u03b9\\u03ba\\u03ae...\",\"70_\\u03c0\\u03b1\\u03c1\\u03b1\\u03bb\\u03b1\\u03b2\\u03ae \\u03b1\\u03af\\u03c4\\u03b7\\u03c3\\u03b7\\u03c2 \\u03b4\\u03b9\\u03ba\\u03b1\\u03b9\\u03bf\\u03bb...\",\"177_\\u03b4\\u03b9\\u03ba\\u03b1\\u03b9\\u03bf\\u03bb\\u03bf\\u03b3\\u03b7\\u03c4\\u03b9\\u03ba\\u03ce\\u03bd \\u03c0\\u03b1\\u03c1\\u03b1\\u03bb\\u03b1\\u03b2...\",\"29_\\u03b3\\u03b5\\u03bd\\u03b5\\u03c4\\u03ae\\u03c3\\u03b9\\u03b1\\u03c2_\\u03c0\\u03bb\\u03b1\\u03c3\\u03c4\\u03bf\\u03b3\\u03c1\\u03b1\\u03c6\\u03af\\u03b1\\u03c2...\",\"707_\\u03b1\\u03b4\\u03b9\\u03ba\\u03ae\\u03bc\\u03b1\\u03c4\\u03b1_\\u03c0\\u03c1\\u03ac\\u03be\\u03b5\\u03b9\\u03c2_\\u03c0\\u03bb\\u03b7\\u03bc\\u03bc...\",\"79_\\u03b1\\u03c0\\u03cc\\u03c6\\u03b1\\u03c3\\u03b7\\u03c2 \\u03ad\\u03ba\\u03b4\\u03bf\\u03c3\\u03b7 \\u03b1\\u03c0\\u03cc\\u03c6\\u03b1\\u03c3\\u03b7\\u03c2...\",\"48_\\u03b1\\u03c0\\u03cc\\u03c6\\u03b1\\u03c3\\u03b7\\u03c2 \\u03ad\\u03ba\\u03b4\\u03bf\\u03c3\\u03b7 \\u03b1\\u03c0\\u03cc\\u03c6\\u03b1\\u03c3\\u03b7\\u03c2...\"],\"tickvals\":[-5.0,-15.0,-25.0,-35.0,-45.0,-55.0,-65.0,-75.0,-85.0,-95.0,-105.0,-115.0,-125.0,-135.0,-145.0,-155.0,-165.0,-175.0,-185.0,-195.0,-205.0,-215.0,-225.0,-235.0,-245.0,-255.0,-265.0,-275.0,-285.0,-295.0,-305.0,-315.0,-325.0,-335.0,-345.0,-355.0,-365.0,-375.0,-385.0,-395.0,-405.0,-415.0,-425.0,-435.0,-445.0,-455.0,-465.0,-475.0,-485.0,-495.0,-505.0,-515.0,-525.0,-535.0,-545.0,-555.0,-565.0,-575.0,-585.0,-595.0,-605.0,-615.0,-625.0,-635.0,-645.0,-655.0,-665.0,-675.0,-685.0,-695.0,-705.0,-715.0,-725.0,-735.0,-745.0,-755.0,-765.0,-775.0,-785.0,-795.0,-805.0,-815.0,-825.0,-835.0,-845.0,-855.0,-865.0,-875.0,-885.0,-895.0,-905.0,-915.0,-925.0,-935.0,-945.0,-955.0,-965.0,-975.0,-985.0,-995.0],\"type\":\"linear\",\"zeroline\":false,\"range\":[-1000.0,0.0]},\"template\":{\"data\":{\"barpolar\":[{\"marker\":{\"line\":{\"color\":\"white\",\"width\":0.5},\"pattern\":{\"fillmode\":\"overlay\",\"size\":10,\"solidity\":0.2}},\"type\":\"barpolar\"}],\"bar\":[{\"error_x\":{\"color\":\"#2a3f5f\"},\"error_y\":{\"color\":\"#2a3f5f\"},\"marker\":{\"line\":{\"color\":\"white\",\"width\":0.5},\"pattern\":{\"fillmode\":\"overlay\",\"size\":10,\"solidity\":0.2}},\"type\":\"bar\"}],\"carpet\":[{\"aaxis\":{\"endlinecolor\":\"#2a3f5f\",\"gridcolor\":\"#C8D4E3\",\"linecolor\":\"#C8D4E3\",\"minorgridcolor\":\"#C8D4E3\",\"startlinecolor\":\"#2a3f5f\"},\"baxis\":{\"endlinecolor\":\"#2a3f5f\",\"gridcolor\":\"#C8D4E3\",\"linecolor\":\"#C8D4E3\",\"minorgridcolor\":\"#C8D4E3\",\"startlinecolor\":\"#2a3f5f\"},\"type\":\"carpet\"}],\"choropleth\":[{\"colorbar\":{\"outlinewidth\":0,\"ticks\":\"\"},\"type\":\"choropleth\"}],\"contourcarpet\":[{\"colorbar\":{\"outlinewidth\":0,\"ticks\":\"\"},\"type\":\"contourcarpet\"}],\"contour\":[{\"colorbar\":{\"outlinewidth\":0,\"ticks\":\"\"},\"colorscale\":[[0.0,\"#0d0887\"],[0.1111111111111111,\"#46039f\"],[0.2222222222222222,\"#7201a8\"],[0.3333333333333333,\"#9c179e\"],[0.4444444444444444,\"#bd3786\"],[0.5555555555555556,\"#d8576b\"],[0.6666666666666666,\"#ed7953\"],[0.7777777777777778,\"#fb9f3a\"],[0.8888888888888888,\"#fdca26\"],[1.0,\"#f0f921\"]],\"type\":\"contour\"}],\"heatmapgl\":[{\"colorbar\":{\"outlinewidth\":0,\"ticks\":\"\"},\"colorscale\":[[0.0,\"#0d0887\"],[0.1111111111111111,\"#46039f\"],[0.2222222222222222,\"#7201a8\"],[0.3333333333333333,\"#9c179e\"],[0.4444444444444444,\"#bd3786\"],[0.5555555555555556,\"#d8576b\"],[0.6666666666666666,\"#ed7953\"],[0.7777777777777778,\"#fb9f3a\"],[0.8888888888888888,\"#fdca26\"],[1.0,\"#f0f921\"]],\"type\":\"heatmapgl\"}],\"heatmap\":[{\"colorbar\":{\"outlinewidth\":0,\"ticks\":\"\"},\"colorscale\":[[0.0,\"#0d0887\"],[0.1111111111111111,\"#46039f\"],[0.2222222222222222,\"#7201a8\"],[0.3333333333333333,\"#9c179e\"],[0.4444444444444444,\"#bd3786\"],[0.5555555555555556,\"#d8576b\"],[0.6666666666666666,\"#ed7953\"],[0.7777777777777778,\"#fb9f3a\"],[0.8888888888888888,\"#fdca26\"],[1.0,\"#f0f921\"]],\"type\":\"heatmap\"}],\"histogram2dcontour\":[{\"colorbar\":{\"outlinewidth\":0,\"ticks\":\"\"},\"colorscale\":[[0.0,\"#0d0887\"],[0.1111111111111111,\"#46039f\"],[0.2222222222222222,\"#7201a8\"],[0.3333333333333333,\"#9c179e\"],[0.4444444444444444,\"#bd3786\"],[0.5555555555555556,\"#d8576b\"],[0.6666666666666666,\"#ed7953\"],[0.7777777777777778,\"#fb9f3a\"],[0.8888888888888888,\"#fdca26\"],[1.0,\"#f0f921\"]],\"type\":\"histogram2dcontour\"}],\"histogram2d\":[{\"colorbar\":{\"outlinewidth\":0,\"ticks\":\"\"},\"colorscale\":[[0.0,\"#0d0887\"],[0.1111111111111111,\"#46039f\"],[0.2222222222222222,\"#7201a8\"],[0.3333333333333333,\"#9c179e\"],[0.4444444444444444,\"#bd3786\"],[0.5555555555555556,\"#d8576b\"],[0.6666666666666666,\"#ed7953\"],[0.7777777777777778,\"#fb9f3a\"],[0.8888888888888888,\"#fdca26\"],[1.0,\"#f0f921\"]],\"type\":\"histogram2d\"}],\"histogram\":[{\"marker\":{\"pattern\":{\"fillmode\":\"overlay\",\"size\":10,\"solidity\":0.2}},\"type\":\"histogram\"}],\"mesh3d\":[{\"colorbar\":{\"outlinewidth\":0,\"ticks\":\"\"},\"type\":\"mesh3d\"}],\"parcoords\":[{\"line\":{\"colorbar\":{\"outlinewidth\":0,\"ticks\":\"\"}},\"type\":\"parcoords\"}],\"pie\":[{\"automargin\":true,\"type\":\"pie\"}],\"scatter3d\":[{\"line\":{\"colorbar\":{\"outlinewidth\":0,\"ticks\":\"\"}},\"marker\":{\"colorbar\":{\"outlinewidth\":0,\"ticks\":\"\"}},\"type\":\"scatter3d\"}],\"scattercarpet\":[{\"marker\":{\"colorbar\":{\"outlinewidth\":0,\"ticks\":\"\"}},\"type\":\"scattercarpet\"}],\"scattergeo\":[{\"marker\":{\"colorbar\":{\"outlinewidth\":0,\"ticks\":\"\"}},\"type\":\"scattergeo\"}],\"scattergl\":[{\"marker\":{\"colorbar\":{\"outlinewidth\":0,\"ticks\":\"\"}},\"type\":\"scattergl\"}],\"scattermapbox\":[{\"marker\":{\"colorbar\":{\"outlinewidth\":0,\"ticks\":\"\"}},\"type\":\"scattermapbox\"}],\"scatterpolargl\":[{\"marker\":{\"colorbar\":{\"outlinewidth\":0,\"ticks\":\"\"}},\"type\":\"scatterpolargl\"}],\"scatterpolar\":[{\"marker\":{\"colorbar\":{\"outlinewidth\":0,\"ticks\":\"\"}},\"type\":\"scatterpolar\"}],\"scatter\":[{\"fillpattern\":{\"fillmode\":\"overlay\",\"size\":10,\"solidity\":0.2},\"type\":\"scatter\"}],\"scatterternary\":[{\"marker\":{\"colorbar\":{\"outlinewidth\":0,\"ticks\":\"\"}},\"type\":\"scatterternary\"}],\"surface\":[{\"colorbar\":{\"outlinewidth\":0,\"ticks\":\"\"},\"colorscale\":[[0.0,\"#0d0887\"],[0.1111111111111111,\"#46039f\"],[0.2222222222222222,\"#7201a8\"],[0.3333333333333333,\"#9c179e\"],[0.4444444444444444,\"#bd3786\"],[0.5555555555555556,\"#d8576b\"],[0.6666666666666666,\"#ed7953\"],[0.7777777777777778,\"#fb9f3a\"],[0.8888888888888888,\"#fdca26\"],[1.0,\"#f0f921\"]],\"type\":\"surface\"}],\"table\":[{\"cells\":{\"fill\":{\"color\":\"#EBF0F8\"},\"line\":{\"color\":\"white\"}},\"header\":{\"fill\":{\"color\":\"#C8D4E3\"},\"line\":{\"color\":\"white\"}},\"type\":\"table\"}]},\"layout\":{\"annotationdefaults\":{\"arrowcolor\":\"#2a3f5f\",\"arrowhead\":0,\"arrowwidth\":1},\"autotypenumbers\":\"strict\",\"coloraxis\":{\"colorbar\":{\"outlinewidth\":0,\"ticks\":\"\"}},\"colorscale\":{\"diverging\":[[0,\"#8e0152\"],[0.1,\"#c51b7d\"],[0.2,\"#de77ae\"],[0.3,\"#f1b6da\"],[0.4,\"#fde0ef\"],[0.5,\"#f7f7f7\"],[0.6,\"#e6f5d0\"],[0.7,\"#b8e186\"],[0.8,\"#7fbc41\"],[0.9,\"#4d9221\"],[1,\"#276419\"]],\"sequential\":[[0.0,\"#0d0887\"],[0.1111111111111111,\"#46039f\"],[0.2222222222222222,\"#7201a8\"],[0.3333333333333333,\"#9c179e\"],[0.4444444444444444,\"#bd3786\"],[0.5555555555555556,\"#d8576b\"],[0.6666666666666666,\"#ed7953\"],[0.7777777777777778,\"#fb9f3a\"],[0.8888888888888888,\"#fdca26\"],[1.0,\"#f0f921\"]],\"sequentialminus\":[[0.0,\"#0d0887\"],[0.1111111111111111,\"#46039f\"],[0.2222222222222222,\"#7201a8\"],[0.3333333333333333,\"#9c179e\"],[0.4444444444444444,\"#bd3786\"],[0.5555555555555556,\"#d8576b\"],[0.6666666666666666,\"#ed7953\"],[0.7777777777777778,\"#fb9f3a\"],[0.8888888888888888,\"#fdca26\"],[1.0,\"#f0f921\"]]},\"colorway\":[\"#636efa\",\"#EF553B\",\"#00cc96\",\"#ab63fa\",\"#FFA15A\",\"#19d3f3\",\"#FF6692\",\"#B6E880\",\"#FF97FF\",\"#FECB52\"],\"font\":{\"color\":\"#2a3f5f\"},\"geo\":{\"bgcolor\":\"white\",\"lakecolor\":\"white\",\"landcolor\":\"white\",\"showlakes\":true,\"showland\":true,\"subunitcolor\":\"#C8D4E3\"},\"hoverlabel\":{\"align\":\"left\"},\"hovermode\":\"closest\",\"mapbox\":{\"style\":\"light\"},\"paper_bgcolor\":\"white\",\"plot_bgcolor\":\"white\",\"polar\":{\"angularaxis\":{\"gridcolor\":\"#EBF0F8\",\"linecolor\":\"#EBF0F8\",\"ticks\":\"\"},\"bgcolor\":\"white\",\"radialaxis\":{\"gridcolor\":\"#EBF0F8\",\"linecolor\":\"#EBF0F8\",\"ticks\":\"\"}},\"scene\":{\"xaxis\":{\"backgroundcolor\":\"white\",\"gridcolor\":\"#DFE8F3\",\"gridwidth\":2,\"linecolor\":\"#EBF0F8\",\"showbackground\":true,\"ticks\":\"\",\"zerolinecolor\":\"#EBF0F8\"},\"yaxis\":{\"backgroundcolor\":\"white\",\"gridcolor\":\"#DFE8F3\",\"gridwidth\":2,\"linecolor\":\"#EBF0F8\",\"showbackground\":true,\"ticks\":\"\",\"zerolinecolor\":\"#EBF0F8\"},\"zaxis\":{\"backgroundcolor\":\"white\",\"gridcolor\":\"#DFE8F3\",\"gridwidth\":2,\"linecolor\":\"#EBF0F8\",\"showbackground\":true,\"ticks\":\"\",\"zerolinecolor\":\"#EBF0F8\"}},\"shapedefaults\":{\"line\":{\"color\":\"#2a3f5f\"}},\"ternary\":{\"aaxis\":{\"gridcolor\":\"#DFE8F3\",\"linecolor\":\"#A2B1C6\",\"ticks\":\"\"},\"baxis\":{\"gridcolor\":\"#DFE8F3\",\"linecolor\":\"#A2B1C6\",\"ticks\":\"\"},\"bgcolor\":\"white\",\"caxis\":{\"gridcolor\":\"#DFE8F3\",\"linecolor\":\"#A2B1C6\",\"ticks\":\"\"}},\"title\":{\"x\":0.05},\"xaxis\":{\"automargin\":true,\"gridcolor\":\"#EBF0F8\",\"linecolor\":\"#EBF0F8\",\"ticks\":\"\",\"title\":{\"standoff\":15},\"zerolinecolor\":\"#EBF0F8\",\"zerolinewidth\":2},\"yaxis\":{\"automargin\":true,\"gridcolor\":\"#EBF0F8\",\"linecolor\":\"#EBF0F8\",\"ticks\":\"\",\"title\":{\"standoff\":15},\"zerolinecolor\":\"#EBF0F8\",\"zerolinewidth\":2}}},\"title\":{\"font\":{\"size\":22,\"color\":\"Black\"},\"text\":\"<b>Hierarchical Clustering</b>\",\"x\":0.5,\"xanchor\":\"center\",\"yanchor\":\"top\"},\"hoverlabel\":{\"font\":{\"size\":16,\"family\":\"Rockwell\"},\"bgcolor\":\"white\"},\"plot_bgcolor\":\"#ECEFF1\"},                        {\"responsive\": true}                    ).then(function(){\n",
              "                            \n",
              "var gd = document.getElementById('e56198d0-6946-4fc5-a7fa-4f8c271dc3ce');\n",
              "var x = new MutationObserver(function (mutations, observer) {{\n",
              "        var display = window.getComputedStyle(gd).display;\n",
              "        if (!display || display === 'none') {{\n",
              "            console.log([gd, 'removed!']);\n",
              "            Plotly.purge(gd);\n",
              "            observer.disconnect();\n",
              "        }}\n",
              "}});\n",
              "\n",
              "// Listen for the removal of the full notebook cells\n",
              "var notebookContainer = gd.closest('#notebook-container');\n",
              "if (notebookContainer) {{\n",
              "    x.observe(notebookContainer, {childList: true});\n",
              "}}\n",
              "\n",
              "// Listen for the clearing of the current output cell\n",
              "var outputEl = gd.closest('.output');\n",
              "if (outputEl) {{\n",
              "    x.observe(outputEl, {childList: true});\n",
              "}}\n",
              "\n",
              "                        })                };                            </script>        </div>\n",
              "</body>\n",
              "</html>"
            ]
          },
          "metadata": {},
          "output_type": "display_data"
        }
      ],
      "source": [
        "full_topic_model.visualize_hierarchy(top_n_topics=100)"
      ]
    },
    {
      "cell_type": "code",
      "execution_count": 65,
      "metadata": {
        "colab": {
          "base_uri": "https://localhost:8080/",
          "height": 144
        },
        "id": "d5dyI1woKN9M",
        "outputId": "853afccc-70fe-4b68-da2c-e6eb84c21464"
      },
      "outputs": [
        {
          "data": {
            "text/html": [
              "\n",
              "\n",
              "  <div id=\"df-10d59ed9-31c0-4a9d-b6b6-81b79e1c396e\">\n",
              "    <div class=\"colab-df-container\">\n",
              "      <div>\n",
              "<style scoped>\n",
              "    .dataframe tbody tr th:only-of-type {\n",
              "        vertical-align: middle;\n",
              "    }\n",
              "\n",
              "    .dataframe tbody tr th {\n",
              "        vertical-align: top;\n",
              "    }\n",
              "\n",
              "    .dataframe thead th {\n",
              "        text-align: right;\n",
              "    }\n",
              "</style>\n",
              "<table border=\"1\" class=\"dataframe\">\n",
              "  <thead>\n",
              "    <tr style=\"text-align: right;\">\n",
              "      <th></th>\n",
              "      <th>Topic</th>\n",
              "      <th>Count</th>\n",
              "      <th>Name</th>\n",
              "      <th>Representation</th>\n",
              "      <th>Representative_Docs</th>\n",
              "    </tr>\n",
              "  </thead>\n",
              "  <tbody>\n",
              "    <tr>\n",
              "      <th>0</th>\n",
              "      <td>-1</td>\n",
              "      <td>2650</td>\n",
              "      <td>-1_ηλικίας_τουλάχιστον_έτος_έτη</td>\n",
              "      <td>[ηλικίας, τουλάχιστον, έτος, έτη, μόνο, άλλη, ...</td>\n",
              "      <td>[Οι υποψήφιοι οδηγοί και οδηγοί προκειμένου να...</td>\n",
              "    </tr>\n",
              "    <tr>\n",
              "      <th>1</th>\n",
              "      <td>0</td>\n",
              "      <td>1259</td>\n",
              "      <td>0_πλοίου_ναυτικού_πλοίο_σκάφους</td>\n",
              "      <td>[πλοίου, ναυτικού, πλοίο, σκάφους, πλοία, αλιε...</td>\n",
              "      <td>[Να είναι επιβατηγό πλοίο ή ταχύπλοο σκάφος πο...</td>\n",
              "    </tr>\n",
              "    <tr>\n",
              "      <th>2</th>\n",
              "      <td>1</td>\n",
              "      <td>762</td>\n",
              "      <td>1_κυκλοφορίας_οχήματος_οχημάτων_οδήγησης</td>\n",
              "      <td>[κυκλοφορίας, οχήματος, οχημάτων, οδήγησης, άδ...</td>\n",
              "      <td>[Άδεια κυκλοφορίας οχήματος σε ισχύ, του δηλού...</td>\n",
              "    </tr>\n",
              "  </tbody>\n",
              "</table>\n",
              "</div>\n",
              "      <button class=\"colab-df-convert\" onclick=\"convertToInteractive('df-10d59ed9-31c0-4a9d-b6b6-81b79e1c396e')\"\n",
              "              title=\"Convert this dataframe to an interactive table.\"\n",
              "              style=\"display:none;\">\n",
              "\n",
              "  <svg xmlns=\"http://www.w3.org/2000/svg\" height=\"24px\"viewBox=\"0 0 24 24\"\n",
              "       width=\"24px\">\n",
              "    <path d=\"M0 0h24v24H0V0z\" fill=\"none\"/>\n",
              "    <path d=\"M18.56 5.44l.94 2.06.94-2.06 2.06-.94-2.06-.94-.94-2.06-.94 2.06-2.06.94zm-11 1L8.5 8.5l.94-2.06 2.06-.94-2.06-.94L8.5 2.5l-.94 2.06-2.06.94zm10 10l.94 2.06.94-2.06 2.06-.94-2.06-.94-.94-2.06-.94 2.06-2.06.94z\"/><path d=\"M17.41 7.96l-1.37-1.37c-.4-.4-.92-.59-1.43-.59-.52 0-1.04.2-1.43.59L10.3 9.45l-7.72 7.72c-.78.78-.78 2.05 0 2.83L4 21.41c.39.39.9.59 1.41.59.51 0 1.02-.2 1.41-.59l7.78-7.78 2.81-2.81c.8-.78.8-2.07 0-2.86zM5.41 20L4 18.59l7.72-7.72 1.47 1.35L5.41 20z\"/>\n",
              "  </svg>\n",
              "      </button>\n",
              "\n",
              "\n",
              "\n",
              "    <div id=\"df-83d3340e-c3a2-431d-bd96-c49d6784297a\">\n",
              "      <button class=\"colab-df-quickchart\" onclick=\"quickchart('df-83d3340e-c3a2-431d-bd96-c49d6784297a')\"\n",
              "              title=\"Suggest charts.\"\n",
              "              style=\"display:none;\">\n",
              "\n",
              "<svg xmlns=\"http://www.w3.org/2000/svg\" height=\"24px\"viewBox=\"0 0 24 24\"\n",
              "     width=\"24px\">\n",
              "    <g>\n",
              "        <path d=\"M19 3H5c-1.1 0-2 .9-2 2v14c0 1.1.9 2 2 2h14c1.1 0 2-.9 2-2V5c0-1.1-.9-2-2-2zM9 17H7v-7h2v7zm4 0h-2V7h2v10zm4 0h-2v-4h2v4z\"/>\n",
              "    </g>\n",
              "</svg>\n",
              "      </button>\n",
              "    </div>\n",
              "\n",
              "<style>\n",
              "  .colab-df-quickchart {\n",
              "    background-color: #E8F0FE;\n",
              "    border: none;\n",
              "    border-radius: 50%;\n",
              "    cursor: pointer;\n",
              "    display: none;\n",
              "    fill: #1967D2;\n",
              "    height: 32px;\n",
              "    padding: 0 0 0 0;\n",
              "    width: 32px;\n",
              "  }\n",
              "\n",
              "  .colab-df-quickchart:hover {\n",
              "    background-color: #E2EBFA;\n",
              "    box-shadow: 0px 1px 2px rgba(60, 64, 67, 0.3), 0px 1px 3px 1px rgba(60, 64, 67, 0.15);\n",
              "    fill: #174EA6;\n",
              "  }\n",
              "\n",
              "  [theme=dark] .colab-df-quickchart {\n",
              "    background-color: #3B4455;\n",
              "    fill: #D2E3FC;\n",
              "  }\n",
              "\n",
              "  [theme=dark] .colab-df-quickchart:hover {\n",
              "    background-color: #434B5C;\n",
              "    box-shadow: 0px 1px 3px 1px rgba(0, 0, 0, 0.15);\n",
              "    filter: drop-shadow(0px 1px 2px rgba(0, 0, 0, 0.3));\n",
              "    fill: #FFFFFF;\n",
              "  }\n",
              "</style>\n",
              "\n",
              "    <script>\n",
              "      async function quickchart(key) {\n",
              "        const containerElement = document.querySelector('#' + key);\n",
              "        const charts = await google.colab.kernel.invokeFunction(\n",
              "            'suggestCharts', [key], {});\n",
              "      }\n",
              "    </script>\n",
              "\n",
              "      <script>\n",
              "\n",
              "function displayQuickchartButton(domScope) {\n",
              "  let quickchartButtonEl =\n",
              "    domScope.querySelector('#df-83d3340e-c3a2-431d-bd96-c49d6784297a button.colab-df-quickchart');\n",
              "  quickchartButtonEl.style.display =\n",
              "    google.colab.kernel.accessAllowed ? 'block' : 'none';\n",
              "}\n",
              "\n",
              "        displayQuickchartButton(document);\n",
              "      </script>\n",
              "      <style>\n",
              "    .colab-df-container {\n",
              "      display:flex;\n",
              "      flex-wrap:wrap;\n",
              "      gap: 12px;\n",
              "    }\n",
              "\n",
              "    .colab-df-convert {\n",
              "      background-color: #E8F0FE;\n",
              "      border: none;\n",
              "      border-radius: 50%;\n",
              "      cursor: pointer;\n",
              "      display: none;\n",
              "      fill: #1967D2;\n",
              "      height: 32px;\n",
              "      padding: 0 0 0 0;\n",
              "      width: 32px;\n",
              "    }\n",
              "\n",
              "    .colab-df-convert:hover {\n",
              "      background-color: #E2EBFA;\n",
              "      box-shadow: 0px 1px 2px rgba(60, 64, 67, 0.3), 0px 1px 3px 1px rgba(60, 64, 67, 0.15);\n",
              "      fill: #174EA6;\n",
              "    }\n",
              "\n",
              "    [theme=dark] .colab-df-convert {\n",
              "      background-color: #3B4455;\n",
              "      fill: #D2E3FC;\n",
              "    }\n",
              "\n",
              "    [theme=dark] .colab-df-convert:hover {\n",
              "      background-color: #434B5C;\n",
              "      box-shadow: 0px 1px 3px 1px rgba(0, 0, 0, 0.15);\n",
              "      filter: drop-shadow(0px 1px 2px rgba(0, 0, 0, 0.3));\n",
              "      fill: #FFFFFF;\n",
              "    }\n",
              "  </style>\n",
              "\n",
              "      <script>\n",
              "        const buttonEl =\n",
              "          document.querySelector('#df-10d59ed9-31c0-4a9d-b6b6-81b79e1c396e button.colab-df-convert');\n",
              "        buttonEl.style.display =\n",
              "          google.colab.kernel.accessAllowed ? 'block' : 'none';\n",
              "\n",
              "        async function convertToInteractive(key) {\n",
              "          const element = document.querySelector('#df-10d59ed9-31c0-4a9d-b6b6-81b79e1c396e');\n",
              "          const dataTable =\n",
              "            await google.colab.kernel.invokeFunction('convertToInteractive',\n",
              "                                                     [key], {});\n",
              "          if (!dataTable) return;\n",
              "\n",
              "          const docLinkHtml = 'Like what you see? Visit the ' +\n",
              "            '<a target=\"_blank\" href=https://colab.research.google.com/notebooks/data_table.ipynb>data table notebook</a>'\n",
              "            + ' to learn more about interactive tables.';\n",
              "          element.innerHTML = '';\n",
              "          dataTable['output_type'] = 'display_data';\n",
              "          await google.colab.output.renderOutput(dataTable, element);\n",
              "          const docLink = document.createElement('div');\n",
              "          docLink.innerHTML = docLinkHtml;\n",
              "          element.appendChild(docLink);\n",
              "        }\n",
              "      </script>\n",
              "    </div>\n",
              "  </div>\n"
            ],
            "text/plain": [
              "   Topic  Count                                      Name  \\\n",
              "0     -1   2650           -1_ηλικίας_τουλάχιστον_έτος_έτη   \n",
              "1      0   1259           0_πλοίου_ναυτικού_πλοίο_σκάφους   \n",
              "2      1    762  1_κυκλοφορίας_οχήματος_οχημάτων_οδήγησης   \n",
              "\n",
              "                                      Representation  \\\n",
              "0  [ηλικίας, τουλάχιστον, έτος, έτη, μόνο, άλλη, ...   \n",
              "1  [πλοίου, ναυτικού, πλοίο, σκάφους, πλοία, αλιε...   \n",
              "2  [κυκλοφορίας, οχήματος, οχημάτων, οδήγησης, άδ...   \n",
              "\n",
              "                                 Representative_Docs  \n",
              "0  [Οι υποψήφιοι οδηγοί και οδηγοί προκειμένου να...  \n",
              "1  [Να είναι επιβατηγό πλοίο ή ταχύπλοο σκάφος πο...  \n",
              "2  [Άδεια κυκλοφορίας οχήματος σε ισχύ, του δηλού...  "
            ]
          },
          "execution_count": 65,
          "metadata": {},
          "output_type": "execute_result"
        }
      ],
      "source": [
        "topics_to_merge = [[7,45], [48, 79]]\n",
        "merge_topics (docs, full_topic_model, topics_to_merge)\n",
        "freq = full_topic_model.get_topic_info(); freq.head(3)"
      ]
    },
    {
      "cell_type": "markdown",
      "metadata": {
        "id": "S50j0l8UVFFv"
      },
      "source": [
        "# Save Topics"
      ]
    },
    {
      "cell_type": "code",
      "execution_count": 87,
      "metadata": {
        "id": "oAMpqwA_M46J"
      },
      "outputs": [],
      "source": [
        "result = full_topic_model.get_document_info(docs)\n",
        "combined[\"Topic\"] = result[\"Topic\"]\n",
        "combined[\"Probability\"] = result[\"Probability\"]"
      ]
    },
    {
      "cell_type": "markdown",
      "metadata": {
        "id": "JtUOJ4HYRVTj"
      },
      "source": [
        "Unique Topics"
      ]
    },
    {
      "cell_type": "code",
      "execution_count": 70,
      "metadata": {
        "id": "l69SyFABMi_-"
      },
      "outputs": [],
      "source": [
        "# Select the desired columns for the new dataframe\n",
        "selected_columns = [\"Topic\", \"Name\", \"Representation\", \"Representative_Docs\", \"Top_n_words\"]\n",
        "unique_topics = result[selected_columns]\n",
        "\n",
        "# Drop duplicates based on the \"Topic\" column to keep only unique topics\n",
        "unique_topics = unique_topics.drop_duplicates(subset=[\"Topic\"]).reset_index(drop=True)"
      ]
    },
    {
      "cell_type": "code",
      "execution_count": 99,
      "metadata": {
        "id": "WA4D-oGDTqiW"
      },
      "outputs": [],
      "source": [
        "def upload_csv_to_target_folder(df, name):\n",
        "\n",
        "  path = name+\".csv\"\n",
        "\n",
        "  result = df\n",
        "  result.to_csv(path, index=False)\n",
        "\n",
        "  url=folder_analysis_url_shrpt+\"topics_extraction/\"+\"combined_docs_topic\"\n",
        "  target_folder = ctx.web.get_folder_by_server_relative_url(url)\n",
        "  with open(path, \"rb\") as content_file:\n",
        "      file_content = content_file.read()\n",
        "      target_folder.upload_file(os.path.basename(path), file_content).execute_query()"
      ]
    },
    {
      "cell_type": "code",
      "execution_count": 100,
      "metadata": {
        "id": "KrNtDQppTwV9"
      },
      "outputs": [],
      "source": [
        "upload_csv_to_target_folder(unique_topics, \"unique_topics\")"
      ]
    },
    {
      "cell_type": "markdown",
      "metadata": {
        "id": "pPEJ26X8RX5S"
      },
      "source": [
        "Dataframes"
      ]
    },
    {
      "cell_type": "code",
      "execution_count": 88,
      "metadata": {
        "id": "-aeha3kRRTjN"
      },
      "outputs": [],
      "source": [
        "def filter_dataframe_by_step_id(df, column_name):\n",
        "    # Filter the rows where \"ihu_unique_step_id\" is not \"N/A\"\n",
        "    filtered_df = df[df[column_name] != \"N/A\"]\n",
        "\n",
        "    # Select the desired columns for the new dataframe\n",
        "    selected_columns = [column_name, \"word\", \"Topic\", \"Probability\"]\n",
        "    new_df = filtered_df[selected_columns].reset_index(drop=True)\n",
        "\n",
        "    return new_df"
      ]
    },
    {
      "cell_type": "code",
      "execution_count": 89,
      "metadata": {
        "id": "agfYGuD2RiUz"
      },
      "outputs": [],
      "source": [
        "step_topics = filter_dataframe_by_step_id(combined, \"ihu_unique_step_id\")"
      ]
    },
    {
      "cell_type": "code",
      "execution_count": 92,
      "metadata": {
        "id": "hdyDI2iMscOW"
      },
      "outputs": [],
      "source": [
        "def upload_csv_to_target_folder(unique_id, name):\n",
        "\n",
        "  result = filter_dataframe_by_step_id(combined, unique_id)\n",
        "\n",
        "  path = name+\".csv\"\n",
        "\n",
        "  result.to_csv(path, index=False)\n",
        "\n",
        "  url=folder_analysis_url_shrpt+\"topics_extraction/\"+\"combined_docs_topic\"\n",
        "  target_folder = ctx.web.get_folder_by_server_relative_url(url)\n",
        "  with open(path, \"rb\") as content_file:\n",
        "      file_content = content_file.read()\n",
        "      target_folder.upload_file(os.path.basename(path), file_content).execute_query()"
      ]
    },
    {
      "cell_type": "code",
      "execution_count": 93,
      "metadata": {
        "id": "rSNRzQZbtarg"
      },
      "outputs": [],
      "source": [
        "upload_csv_to_target_folder(\"ihu_unique_step_id\", \"step_topics_full\")"
      ]
    },
    {
      "cell_type": "code",
      "execution_count": 94,
      "metadata": {
        "id": "1IWmL5Of8o6P"
      },
      "outputs": [],
      "source": [
        "upload_csv_to_target_folder(\"ihu_unique_step_digital_id\", \"steps_digital_topics_full\")"
      ]
    },
    {
      "cell_type": "code",
      "execution_count": 95,
      "metadata": {
        "id": "X7ak1k9E8p--"
      },
      "outputs": [],
      "source": [
        "upload_csv_to_target_folder(\"id\", \"process_title_topics_full\")"
      ]
    },
    {
      "cell_type": "code",
      "execution_count": 96,
      "metadata": {
        "id": "YRzPt8H8Kaho"
      },
      "outputs": [],
      "source": [
        "upload_csv_to_target_folder(\"ihu_unique_evidence_id\", \"evidences_topics_full\")"
      ]
    },
    {
      "cell_type": "code",
      "execution_count": 97,
      "metadata": {
        "id": "dhHi7XNAKnnk"
      },
      "outputs": [],
      "source": [
        "upload_csv_to_target_folder(\"ihu_unique_condition_id\", \"conditions_topics_full\")"
      ]
    }
  ],
  "metadata": {
    "accelerator": "GPU",
    "colab": {
      "collapsed_sections": [
        "lj2MUI9Mkdxu",
        "6MVO51-bl_hE",
        "3cUpCCjrxNh4",
        "rq2OYIP54JUG",
        "YVhcpLnJ4SKO",
        "Vvtsxa6HVuJb",
        "b5bOBIel9IiP",
        "lKvzHgqnAzcE",
        "8aKrwZ4VCkC8",
        "UWUcgEJ3EKFq",
        "n0WFBYqzIFIU"
      ],
      "gpuType": "T4",
      "machine_shape": "hm",
      "provenance": []
    },
    "kernelspec": {
      "display_name": "Python 3",
      "name": "python3"
    }
  },
  "nbformat": 4,
  "nbformat_minor": 0
}
