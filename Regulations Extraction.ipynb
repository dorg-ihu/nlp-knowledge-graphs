{
 "cells": [
  {
   "cell_type": "code",
   "execution_count": 68,
   "metadata": {},
   "outputs": [
    {
     "name": "stdout",
     "output_type": "stream",
     "text": [
      "['β.δ. 666/1966', 'π.δ. 261/1991']\n",
      "['β.δ. 666/1966', 'π.δ. 261/1991']\n",
      "['Ν. 1361/83', 'Ν. 2538/97']\n",
      "['διατάγματος 666/25.07.1966', 'π.δ. 261/17.06.1991', 'ΥΑ 4023/64557/16-05-2014', 'αρ. 4389/71210/30-05-2014']\n"
     ]
    }
   ],
   "source": [
    "import re\n",
    "\n",
    "text1 = \"Σύμφωνα με τις διατάξεις του β.δ. 666/1966 (Α΄160) και του π.δ. 261/1991 (Α΄98).\"\n",
    "text2 = \"Σε ισχύ αλιευτική άδεια, σύμφωνα με τις διατάξεις του β.δ. 666/1966 και του π.δ. 261/1991\"\n",
    "text3= \"Βεβαίωση Αλιευτικού Συλλόγου του Ν. 1361/83, όπως τροποποιήθηκε με το άρθρο 51 του Ν. 2538/97.\"\n",
    "text4 = \"Οι προϋποθέσεις που ισχύουν για τη χορήγηση και ανανέωση αδειών αλιείας σε επαγγελματικά σκάφη και επαγγελματία αλιέα, \\\n",
    "σύμφωνα με τις διατάξεις 1) του βασιλικού διατάγματος 666/25.07.1966 (Α΄ 160) 2) του π.δ. 261/17.06.1991 (Α΄ 98), της ΥΑ 4023/64557/16-05-2014 (Β΄ 1307),\\\n",
    "όπως τροποποιήθηκε με την αρ. 4389/71210/30-05-2014 (Β΄ 1445).\"\n",
    "\n",
    "#pattern = r'(\\S+ \\b\\d+/\\d+(?:-\\d+)?(?:/\\d+)?(?:-\\d+)?(?:-\\d+)?)'\n",
    "pattern = r'(\\S+\\s(?:\\d+\\/(?:\\d+(?:\\.\\d+)*(?:\\/\\d+(?:-\\d+)?)?)?(?:-\\d+)?))'\n",
    "\n",
    "matches1 = re.findall(pattern, text1)\n",
    "matches2 = re.findall(pattern, text2)\n",
    "matches3 = re.findall(pattern, text3)\n",
    "matches4 = re.findall(pattern, text4)\n",
    "\n",
    "print(matches1)\n",
    "print(matches2)\n",
    "print(matches3)\n",
    "print(matches4)"
   ]
  },
  {
   "cell_type": "code",
   "execution_count": 69,
   "metadata": {},
   "outputs": [
    {
     "name": "stdout",
     "output_type": "stream",
     "text": [
      "['(ΕΚ) 1069/2009', 'και 142/2011']\n"
     ]
    }
   ],
   "source": [
    "text5 = \"Η διαχείριση των πουλερικών σε περίπτωση σμήνους που έχει χαρακτηριστεί ως θετικό για σαλμονέλλα στο πλαίσιο των περιοριστικών \\\n",
    "    μέτρων που λαμβάνονται, εξαρτάται από τον υπεύθυνο της εκμετάλλευσης, ο οποίος μπορεί να αποφασίσει εάν επιθυμεί την καταστροφή των πουλερικών, \\\n",
    "    σύμφωνα με τους Κανονισμούς (ΕΚ) 1069/2009 και 142/2011 ή τη σφαγή και θερμική επεξεργασία των πουλερικών, σύμφωνα με την ισχύουσα νομοθεσία \\\n",
    "    για την υγιεινή των τροφίμων. Στην περίπτωση αυτή, υποβάλλει σχετική δήλωση στην οικεία περιφερειακή κτηνιατρική αρχή, εντός προθεσμίας 24 ωρών\\\n",
    "    από την κοινοποίηση του θετικού εργαστηριακού αποτελέσματος της επίσημης δειγματοληψίας.\"\n",
    "matches5 = re.findall(pattern, text5)\n",
    "\n",
    "print(matches5)"
   ]
  },
  {
   "cell_type": "code",
   "execution_count": 70,
   "metadata": {},
   "outputs": [
    {
     "name": "stdout",
     "output_type": "stream",
     "text": [
      "['Ν. 4235/2014', 'Ν. 4389/2016']\n"
     ]
    }
   ],
   "source": [
    "text6 =\"Το Μητρώο Αγροτών και Αγροτικών Εκμεταλλεύσεων (ΜΑΑΕ) είναι ένα ηλεκτρονικό μητρώο που τηρείται από το 2011 στο Υπουργείο Αγροτικής Ανάπτυξης και Τροφίμων (ΥΠΑΑΤ). \\\n",
    "    Eγγράφονται σε αυτό οι επαγγελματίες αγρότες, καθώς και τα φυσικά ή νομικά πρόσωπα, στα οποία περιλαμβάνονται και οι μικτές αγροτικές εκμεταλλεύσεις, που είναι \\\n",
    "    αποδεδειγμένα κάτοχοι, με οποιονδήποτε νόμιμο τρόπο, αγροτικής εκμετάλλευσης στην Επικράτεια. Η ιδιότητα του κατόχου αγροτικής εκμετάλλευσης ή του επαγγελματία αγρότη, \\\n",
    "    προσδιορίζεται με τις διατάξεις του άρθρου 2, του Ν.3874/10, όπως αυτό τροποποιήθηκε με τα άρθρα 40, του Ν. 4235/2014 και 65, του Ν. 4389/2016.\"\n",
    "matches6 = re.findall(pattern, text6)\n",
    "print(matches6)"
   ]
  },
  {
   "cell_type": "code",
   "execution_count": 71,
   "metadata": {},
   "outputs": [
    {
     "name": "stdout",
     "output_type": "stream",
     "text": [
      "['ν. 3877/2010']\n"
     ]
    }
   ],
   "source": [
    "text7=\"Τα φυσικά ή νομικά πρόσωπα, καθώς και ενώσεις προσώπων που έχουν την πλήρη κυριότητα, την επικαρπία ή μόνο την εκμετάλλευση αγροτικών εκμεταλλεύσεων της χώρας,\\\n",
    "    πλην της περιοχής του Αγίου Όρους, θα πρέπει υποχρεωτικά να είναι ασφαλισμέναστον ΕΛΓΑ, σύμφωνα με τις διατάξεις του άρθρου 4 παρ. 1 του ν. 3877/2010 (A΄160).\"\n",
    "matches7 = re.findall(pattern, text7)\n",
    "print(matches7)"
   ]
  },
  {
   "cell_type": "code",
   "execution_count": 72,
   "metadata": {},
   "outputs": [
    {
     "name": "stdout",
     "output_type": "stream",
     "text": [
      "['Ν. 4251/2014', 'αριθμ: 169953/3-6', 'την 1415/80082/12-7-2016']\n"
     ]
    }
   ],
   "source": [
    "text8=\"Προκειμένου να γίνει δεκτή η αίτηση εργοδότη για μετάκληση ή απασχόληση παράτυπα διαμένοντος πολίτη τρίτης χώρας σε αγροτική έκταση ιδιοκτησίας του\\\n",
    "    (σύμφωνα με τις διατάξεις του Ν. 4251/2014), τότε στη σχετική σύμβαση εργασίας θα πρέπει να τηρείται η αντιστοίχιση μεταξύ της καλλιεργήσιμης έκτασης\\\n",
    "    ή του ζωικού κεφαλαίου ανά εργαζόμενο, με τη χρήση του δείκτη Μονάδας Ανθρώπινης Εργασίας, όπως αυτή προβλέπεται από την παράγραφο 2, του άρθρου 1,\\\n",
    "    της υπ αριθμ: 169953/3-6-2011 ΥΑ, όπως αυτή τροποποιήθηκε με την 1415/80082/12-7-2016, όμοια απόφαση.\"\n",
    "matches8 = re.findall(pattern, text8)\n",
    "print(matches8)"
   ]
  },
  {
   "cell_type": "code",
   "execution_count": 9,
   "metadata": {},
   "outputs": [],
   "source": [
    "texts = [text1, text2, text3, text4, text5, text6, text7, text8]\n",
    "pattern = r'(\\S+ \\b\\d+/\\d+(?:-\\d+)?(?:/\\d+)?(?:-\\d+)?(?:-\\d+)?)'\n",
    "regulations=[]"
   ]
  },
  {
   "attachments": {},
   "cell_type": "markdown",
   "metadata": {},
   "source": [
    "## Loop"
   ]
  },
  {
   "cell_type": "code",
   "execution_count": 10,
   "metadata": {},
   "outputs": [],
   "source": [
    "for text in texts:\n",
    "    matches = re.findall(pattern, text)\n",
    "    regulations.append(matches)"
   ]
  },
  {
   "cell_type": "code",
   "execution_count": 11,
   "metadata": {},
   "outputs": [
    {
     "name": "stdout",
     "output_type": "stream",
     "text": [
      "[['β.δ. 666/1966', 'π.δ. 261/1991'], ['β.δ. 666/1966', 'π.δ. 261/1991'], ['Ν. 1361/83', 'Ν. 2538/97'], ['διατάγματος 666/25', 'π.δ. 261/17', 'ΥΑ 4023/64557/16-05-2014', 'αρ. 4389/71210/30-05-2014'], ['(ΕΚ) 1069/2009', 'και 142/2011'], ['Ν. 4235/2014', 'Ν. 4389/2016'], ['ν. 3877/2010'], ['Ν. 4251/2014', 'αριθμ: 169953/3-6-2011', 'την 1415/80082/12-7-2016']]\n"
     ]
    }
   ],
   "source": [
    "print(regulations)"
   ]
  },
  {
   "attachments": {},
   "cell_type": "markdown",
   "metadata": {},
   "source": [
    "## Remove StopWords "
   ]
  },
  {
   "cell_type": "code",
   "execution_count": 29,
   "metadata": {},
   "outputs": [
    {
     "name": "stderr",
     "output_type": "stream",
     "text": [
      "[nltk_data] Downloading package stopwords to\n",
      "[nltk_data]     /Users/alexmichailidis/nltk_data...\n",
      "[nltk_data]   Package stopwords is already up-to-date!\n"
     ]
    }
   ],
   "source": [
    "import nltk\n",
    "nltk.download('stopwords')\n",
    "from nltk.corpus import stopwords\n",
    "greek_stopwords = stopwords.words('greek')\n",
    "\n",
    "new_words = ['της', 'τη', 'του', 'από', 'την', 'και']\n",
    "\n",
    "for word in new_words:\n",
    "  greek_stopwords.append(word)"
   ]
  },
  {
   "cell_type": "code",
   "execution_count": 37,
   "metadata": {},
   "outputs": [],
   "source": [
    "def remove_stopwords(data):\n",
    "    for sublist in data:\n",
    "        for i in range(len(sublist)):\n",
    "            words = sublist[i].split()\n",
    "            sublist[i] = ' '.join([word for word in words if word not in greek_stopwords])\n",
    "\n",
    "remove_stopwords(regulations)\n"
   ]
  },
  {
   "cell_type": "code",
   "execution_count": 38,
   "metadata": {},
   "outputs": [
    {
     "name": "stdout",
     "output_type": "stream",
     "text": [
      "[['β.δ. 666/1966', 'π.δ. 261/1991'], ['β.δ. 666/1966', 'π.δ. 261/1991'], ['Ν. 1361/83', 'Ν. 2538/97'], ['διατάγματος 666/25', 'π.δ. 261/17', 'ΥΑ 4023/64557/16-05-2014', 'αρ. 4389/71210/30-05-2014'], ['(ΕΚ) 1069/2009', '142/2011'], ['Ν. 4235/2014', 'Ν. 4389/2016'], ['ν. 3877/2010'], ['Ν. 4251/2014', 'αριθμ: 169953/3-6-2011', '1415/80082/12-7-2016']]\n"
     ]
    }
   ],
   "source": [
    "print(regulations)"
   ]
  }
 ],
 "metadata": {
  "kernelspec": {
   "display_name": "Python 3",
   "language": "python",
   "name": "python3"
  },
  "language_info": {
   "codemirror_mode": {
    "name": "ipython",
    "version": 3
   },
   "file_extension": ".py",
   "mimetype": "text/x-python",
   "name": "python",
   "nbconvert_exporter": "python",
   "pygments_lexer": "ipython3",
   "version": "3.9.6"
  },
  "orig_nbformat": 4
 },
 "nbformat": 4,
 "nbformat_minor": 2
}
